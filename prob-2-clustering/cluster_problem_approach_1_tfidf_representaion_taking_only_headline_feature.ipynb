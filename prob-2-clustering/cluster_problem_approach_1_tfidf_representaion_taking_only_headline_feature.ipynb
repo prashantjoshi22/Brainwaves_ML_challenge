{
 "cells": [
  {
   "cell_type": "code",
   "execution_count": 55,
   "metadata": {},
   "outputs": [],
   "source": [
    "import pandas as pd\n",
    "import re\n",
    "import string\n",
    "from sklearn.feature_extraction.text import TfidfVectorizer\n",
    "from sklearn.cluster import KMeans"
   ]
  },
  {
   "cell_type": "code",
   "execution_count": null,
   "metadata": {},
   "outputs": [],
   "source": []
  },
  {
   "cell_type": "code",
   "execution_count": 56,
   "metadata": {},
   "outputs": [],
   "source": [
    "def preprocess_data(s):\n",
    "    s = s.lower()\n",
    "    data = re.sub(r'[^\\x00-\\x7F]+', ' ', s)\n",
    "    final_str = data.translate(None, string.punctuation)\n",
    "    return final_str.strip()"
   ]
  },
  {
   "cell_type": "code",
   "execution_count": 57,
   "metadata": {},
   "outputs": [],
   "source": [
    "FILE_PATH = '/home/prashant/Downloads/brain_w/data/news.csv'\n",
    "df = pd.read_csv(FILE_PATH)"
   ]
  },
  {
   "cell_type": "code",
   "execution_count": 58,
   "metadata": {},
   "outputs": [],
   "source": [
    "df['headline'] = df['headline'].apply(preprocess_data)"
   ]
  },
  {
   "cell_type": "code",
   "execution_count": 5,
   "metadata": {},
   "outputs": [],
   "source": [
    "df['text'] = df['text'].apply(preprocess_data)"
   ]
  },
  {
   "cell_type": "code",
   "execution_count": 6,
   "metadata": {},
   "outputs": [],
   "source": [
    "df[\"merge\"] = df[\"headline\"].map(str) +\" \"+ df[\"text\"]"
   ]
  },
  {
   "cell_type": "code",
   "execution_count": 59,
   "metadata": {},
   "outputs": [
    {
     "data": {
      "text/html": [
       "<div>\n",
       "<style scoped>\n",
       "    .dataframe tbody tr th:only-of-type {\n",
       "        vertical-align: middle;\n",
       "    }\n",
       "\n",
       "    .dataframe tbody tr th {\n",
       "        vertical-align: top;\n",
       "    }\n",
       "\n",
       "    .dataframe thead th {\n",
       "        text-align: right;\n",
       "    }\n",
       "</style>\n",
       "<table border=\"1\" class=\"dataframe\">\n",
       "  <thead>\n",
       "    <tr style=\"text-align: right;\">\n",
       "      <th></th>\n",
       "      <th>id</th>\n",
       "      <th>headline</th>\n",
       "      <th>text</th>\n",
       "    </tr>\n",
       "  </thead>\n",
       "  <tbody>\n",
       "    <tr>\n",
       "      <th>0</th>\n",
       "      <td>uid-1</td>\n",
       "      <td>market advances 512 more</td>\n",
       "      <td>NEW YORK (AP) - A prime rate reduction by New ...</td>\n",
       "    </tr>\n",
       "    <tr>\n",
       "      <th>1</th>\n",
       "      <td>uid-2</td>\n",
       "      <td>district boosts request for antiterrorism aid ...</td>\n",
       "      <td>Mayor Anthony A. Williams petitioned the White...</td>\n",
       "    </tr>\n",
       "    <tr>\n",
       "      <th>2</th>\n",
       "      <td>uid-3</td>\n",
       "      <td>election heres how you do it mate</td>\n",
       "      <td>From our downunder perspective here in Austral...</td>\n",
       "    </tr>\n",
       "    <tr>\n",
       "      <th>3</th>\n",
       "      <td>uid-4</td>\n",
       "      <td>the biggest boom ever</td>\n",
       "      <td>We are about to rewrite history. Unless a rece...</td>\n",
       "    </tr>\n",
       "    <tr>\n",
       "      <th>4</th>\n",
       "      <td>uid-5</td>\n",
       "      <td>economic aide sees uptrend</td>\n",
       "      <td>Sedate and scholarly Dr. Arthur Burns, the ex-...</td>\n",
       "    </tr>\n",
       "  </tbody>\n",
       "</table>\n",
       "</div>"
      ],
      "text/plain": [
       "      id                                           headline  \\\n",
       "0  uid-1                           market advances 512 more   \n",
       "1  uid-2  district boosts request for antiterrorism aid ...   \n",
       "2  uid-3                  election heres how you do it mate   \n",
       "3  uid-4                              the biggest boom ever   \n",
       "4  uid-5                         economic aide sees uptrend   \n",
       "\n",
       "                                                text  \n",
       "0  NEW YORK (AP) - A prime rate reduction by New ...  \n",
       "1  Mayor Anthony A. Williams petitioned the White...  \n",
       "2  From our downunder perspective here in Austral...  \n",
       "3  We are about to rewrite history. Unless a rece...  \n",
       "4  Sedate and scholarly Dr. Arthur Burns, the ex-...  "
      ]
     },
     "execution_count": 59,
     "metadata": {},
     "output_type": "execute_result"
    }
   ],
   "source": [
    "df.head()"
   ]
  },
  {
   "cell_type": "code",
   "execution_count": null,
   "metadata": {},
   "outputs": [],
   "source": []
  },
  {
   "cell_type": "code",
   "execution_count": 33,
   "metadata": {},
   "outputs": [
    {
     "data": {
      "text/plain": [
       "TfidfVectorizer(analyzer=u'word', binary=False, decode_error=u'strict',\n",
       "        dtype=<type 'numpy.int64'>, encoding=u'utf-8', input=u'content',\n",
       "        lowercase=True, max_df=1.0, max_features=None, min_df=50,\n",
       "        ngram_range=(1, 1), norm=u'l2', preprocessor=None, smooth_idf=True,\n",
       "        stop_words=None, strip_accents=None, sublinear_tf=False,\n",
       "        token_pattern=u'(?u)\\\\b\\\\w\\\\w+\\\\b', tokenizer=None, use_idf=True,\n",
       "        vocabulary=None)"
      ]
     },
     "execution_count": 33,
     "metadata": {},
     "output_type": "execute_result"
    }
   ],
   "source": [
    "text = (df['merge'])\n",
    "\n",
    "vectorizer = TfidfVectorizer(min_df=50)\n",
    "\n",
    "# tokenize and build vocab\n",
    "vectorizer.fit(text)"
   ]
  },
  {
   "cell_type": "code",
   "execution_count": 35,
   "metadata": {},
   "outputs": [
    {
     "name": "stdout",
     "output_type": "stream",
     "text": [
      "(3000, 1405)\n"
     ]
    },
    {
     "data": {
      "text/plain": [
       "<3000x1405 sparse matrix of type '<type 'numpy.float64'>'\n",
       "\twith 286068 stored elements in Compressed Sparse Row format>"
      ]
     },
     "execution_count": 35,
     "metadata": {},
     "output_type": "execute_result"
    }
   ],
   "source": [
    "# encode document\n",
    "vector = vectorizer.transform(text)\n",
    "# summarize encoded vector\n",
    "print(vector.shape)\n",
    "#print(vector.toarray())\n",
    "vector"
   ]
  },
  {
   "cell_type": "code",
   "execution_count": 36,
   "metadata": {},
   "outputs": [],
   "source": [
    "import numpy as np"
   ]
  },
  {
   "cell_type": "code",
   "execution_count": null,
   "metadata": {},
   "outputs": [],
   "source": [
    "#perform k means on this\n",
    "#vector =  np.array(vector.toarray())\n"
   ]
  },
  {
   "cell_type": "code",
   "execution_count": null,
   "metadata": {},
   "outputs": [],
   "source": []
  },
  {
   "cell_type": "code",
   "execution_count": 45,
   "metadata": {},
   "outputs": [],
   "source": [
    "def elbow_plot(data, maxK=100):\n",
    "    \"\"\"\n",
    "        parameters:\n",
    "        - data: pandas DataFrame (data to be fitted)\n",
    "        - maxK (default = 10): integer (maximum number of clusters with which to run k-means)\n",
    "        \n",
    "    \"\"\"\n",
    "    sse = {}\n",
    "    for k in range(1, maxK):\n",
    "        print(\"k: \", k)\n",
    "       \n",
    "        \n",
    "        kmeans = KMeans(n_clusters=k, max_iter=300, n_init=100, random_state=0).fit(data)\n",
    "        \n",
    "        #data = kmeans.labels_\n",
    "        # Inertia: Sum of distances of samples to their closest cluster center\n",
    "        sse[k] = kmeans.inertia_\n",
    "        print(kmeans.inertia_)\n",
    "    plt.figure()\n",
    "    plt.plot(list(sse.keys()), list(sse.values()))\n",
    "    plt.show()\n",
    "    return kmeans\n"
   ]
  },
  {
   "cell_type": "code",
   "execution_count": 46,
   "metadata": {},
   "outputs": [
    {
     "name": "stdout",
     "output_type": "stream",
     "text": [
      "('k: ', 1)\n",
      "2399.14706805\n",
      "('k: ', 2)\n",
      "2362.37179886\n",
      "('k: ', 3)\n",
      "2337.06227867\n",
      "('k: ', 4)\n",
      "2319.97539052\n",
      "('k: ', 5)\n",
      "2304.89607062\n",
      "('k: ', 6)\n",
      "2291.07716592\n",
      "('k: ', 7)\n",
      "2279.52788019\n",
      "('k: ', 8)\n",
      "2269.63152659\n",
      "('k: ', 9)\n",
      "2259.95256028\n",
      "('k: ', 10)\n",
      "2250.58608957\n",
      "('k: ', 11)\n",
      "2242.23551548\n",
      "('k: ', 12)\n",
      "2233.46029562\n",
      "('k: ', 13)\n",
      "2227.68108267\n",
      "('k: ', 14)\n",
      "2220.38206269\n",
      "('k: ', 15)\n",
      "2212.4197815\n",
      "('k: ', 16)\n",
      "2206.36939623\n",
      "('k: ', 17)\n",
      "2199.35320467\n",
      "('k: ', 18)\n",
      "2194.51835202\n",
      "('k: ', 19)\n",
      "2188.12165098\n",
      "('k: ', 20)\n",
      "2182.25221444\n",
      "('k: ', 21)\n",
      "2175.31077075\n",
      "('k: ', 22)\n",
      "2171.1511512\n",
      "('k: ', 23)\n",
      "2166.76637527\n",
      "('k: ', 24)\n",
      "2159.32714546\n",
      "('k: ', 25)\n",
      "2155.36407643\n",
      "('k: ', 26)\n",
      "2153.48910714\n",
      "('k: ', 27)\n",
      "2148.65020487\n",
      "('k: ', 28)\n",
      "2144.3774564\n",
      "('k: ', 29)\n",
      "2140.87179385\n",
      "('k: ', 30)\n",
      "2136.54578883\n",
      "('k: ', 31)\n",
      "2132.56712125\n",
      "('k: ', 32)\n",
      "2125.94106421\n",
      "('k: ', 33)\n",
      "2124.7119445\n",
      "('k: ', 34)\n",
      "2122.92896083\n",
      "('k: ', 35)\n",
      "2117.79086504\n",
      "('k: ', 36)\n",
      "2119.00628465\n",
      "('k: ', 37)\n",
      "2112.33647836\n",
      "('k: ', 38)\n",
      "2109.74594931\n",
      "('k: ', 39)\n",
      "2103.29598868\n",
      "('k: ', 40)\n",
      "2104.4673193\n",
      "('k: ', 41)\n",
      "2102.04318698\n",
      "('k: ', 42)\n",
      "2099.04274705\n",
      "('k: ', 43)\n",
      "2094.74324006\n",
      "('k: ', 44)\n",
      "2093.26716046\n",
      "('k: ', 45)\n",
      "2089.41897645\n",
      "('k: ', 46)\n",
      "2087.36514675\n",
      "('k: ', 47)\n",
      "2088.62583991\n",
      "('k: ', 48)\n",
      "2084.09120097\n",
      "('k: ', 49)\n",
      "2080.43078439\n",
      "('k: ', 50)\n",
      "2079.58055174\n",
      "('k: ', 51)\n",
      "2076.64310971\n",
      "('k: ', 52)\n",
      "2074.23677701\n",
      "('k: ', 53)\n",
      "2069.18541254\n",
      "('k: ', 54)\n",
      "2070.49277594\n",
      "('k: ', 55)\n",
      "2063.26949638\n",
      "('k: ', 56)\n",
      "2065.17758831\n",
      "('k: ', 57)\n",
      "2061.2103097\n",
      "('k: ', 58)\n",
      "2060.79617207\n",
      "('k: ', 59)\n",
      "2058.87964222\n",
      "('k: ', 60)\n",
      "2057.01657167\n",
      "('k: ', 61)\n",
      "2054.34713404\n",
      "('k: ', 62)\n",
      "2052.86164625\n",
      "('k: ', 63)\n",
      "2051.04525535\n",
      "('k: ', 64)\n",
      "2049.12543018\n",
      "('k: ', 65)\n",
      "2046.65494743\n",
      "('k: ', 66)\n",
      "2043.89036543\n",
      "('k: ', 67)\n",
      "2041.90891792\n",
      "('k: ', 68)\n",
      "2041.35079531\n",
      "('k: ', 69)\n",
      "2041.69181183\n",
      "('k: ', 70)\n",
      "2036.50353079\n",
      "('k: ', 71)\n",
      "2035.46535829\n",
      "('k: ', 72)\n",
      "2032.62454076\n",
      "('k: ', 73)\n",
      "2031.71433313\n",
      "('k: ', 74)\n",
      "2030.81267465\n",
      "('k: ', 75)\n",
      "2025.45486826\n",
      "('k: ', 76)\n",
      "2025.83974361\n",
      "('k: ', 77)\n",
      "2026.26878596\n",
      "('k: ', 78)\n",
      "2023.61114449\n",
      "('k: ', 79)\n",
      "2016.46319863\n",
      "('k: ', 80)\n",
      "2019.7944428\n",
      "('k: ', 81)\n",
      "2020.32983281\n",
      "('k: ', 82)\n",
      "2017.89615178\n",
      "('k: ', 83)\n",
      "2016.59236867\n",
      "('k: ', 84)\n",
      "2015.7198911\n",
      "('k: ', 85)\n",
      "2012.80975663\n",
      "('k: ', 86)\n",
      "2010.73992987\n",
      "('k: ', 87)\n",
      "2009.18499735\n",
      "('k: ', 88)\n",
      "2008.74240678\n",
      "('k: ', 89)\n",
      "2005.02772886\n",
      "('k: ', 90)\n",
      "2005.32062139\n",
      "('k: ', 91)\n",
      "2006.37286527\n",
      "('k: ', 92)\n",
      "2003.22482448\n",
      "('k: ', 93)\n",
      "2002.80725548\n",
      "('k: ', 94)\n",
      "1999.52045772\n",
      "('k: ', 95)\n",
      "1998.60196581\n",
      "('k: ', 96)\n",
      "1993.9055364\n",
      "('k: ', 97)\n",
      "1994.49113033\n",
      "('k: ', 98)\n",
      "1994.73175625\n",
      "('k: ', 99)\n",
      "1992.21417992\n"
     ]
    },
    {
     "data": {
      "image/png": "[encoded data removed]",
      "text/plain": [
       "<Figure size 432x288 with 1 Axes>"
      ]
     },
     "metadata": {
      "needs_background": "light"
     },
     "output_type": "display_data"
    }
   ],
   "source": [
    "import matplotlib.pyplot as plt\n",
    "k = elbow_plot(vector)"
   ]
  },
  {
   "cell_type": "code",
   "execution_count": 47,
   "metadata": {},
   "outputs": [],
   "source": [
    "kmeans = KMeans(n_clusters=45, max_iter=300, n_init=100, random_state=0).fit(vector)"
   ]
  },
  {
   "cell_type": "code",
   "execution_count": 48,
   "metadata": {},
   "outputs": [
    {
     "data": {
      "text/plain": [
       "10"
      ]
     },
     "execution_count": 48,
     "metadata": {},
     "output_type": "execute_result"
    }
   ],
   "source": [
    "kmeans.predict(vector[1])[0]"
   ]
  },
  {
   "cell_type": "code",
   "execution_count": 49,
   "metadata": {},
   "outputs": [],
   "source": [
    "def id_to_prediction():\n",
    "    id_to_res = []\n",
    "    for cnt,v in enumerate(vector):\n",
    "        res = kmeans.predict(v)[0]\n",
    "        id_ = df['id'][cnt]\n",
    "        id_to_res.append((id_, res)) \n",
    "    return id_to_res"
   ]
  },
  {
   "cell_type": "code",
   "execution_count": 50,
   "metadata": {},
   "outputs": [],
   "source": [
    "resu = id_to_prediction()"
   ]
  },
  {
   "cell_type": "code",
   "execution_count": 51,
   "metadata": {},
   "outputs": [],
   "source": [
    "result_df = pd.DataFrame(resu,columns=['id','cluster'],index=None)"
   ]
  },
  {
   "cell_type": "code",
   "execution_count": 52,
   "metadata": {},
   "outputs": [],
   "source": [
    "result_df.to_csv('/home/prashant/Downloads/brain_w/data/dataset/test/sample_submission/result.csv',index=None)"
   ]
  },
  {
   "cell_type": "code",
   "execution_count": 53,
   "metadata": {},
   "outputs": [],
   "source": [
    "np.savetxt(\"/home/prashant/Downloads/brain_w/data/dataset/test/sample_submission/vec.txt\", np.matrix(vector.toarray()))"
   ]
  },
  {
   "cell_type": "code",
   "execution_count": null,
   "metadata": {},
   "outputs": [],
   "source": []
  },
  {
   "cell_type": "code",
   "execution_count": null,
   "metadata": {},
   "outputs": [],
   "source": []
  },
  {
   "cell_type": "code",
   "execution_count": null,
   "metadata": {},
   "outputs": [],
   "source": []
  }
 ],
 "metadata": {
  "kernelspec": {
   "display_name": "Python 2",
   "language": "python",
   "name": "python2"
  },
  "language_info": {
   "codemirror_mode": {
    "name": "ipython",
    "version": 2
   },
   "file_extension": ".py",
   "mimetype": "text/x-python",
   "name": "python",
   "nbconvert_exporter": "python",
   "pygments_lexer": "ipython2",
   "version": "2.7.15"
  }
 },
 "nbformat": 4,
 "nbformat_minor": 2
}
