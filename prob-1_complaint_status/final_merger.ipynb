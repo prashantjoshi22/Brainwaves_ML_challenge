{
 "cells": [
  {
   "cell_type": "code",
   "execution_count": 29,
   "metadata": {},
   "outputs": [],
   "source": [
    "import pandas as pd\n",
    "import numpy as np\n",
    "import nltk\n",
    "import re\n",
    "from nltk.stem.porter import PorterStemmer\n",
    "porter_stemmer = PorterStemmer()\n",
    "from nltk.stem import WordNetLemmatizer\n",
    "lemmatizer = WordNetLemmatizer()\n",
    "import string\n",
    "from string import digits\n",
    "from nltk.corpus import stopwords\n",
    "ps = PorterStemmer()\n",
    "from nltk.stem import PorterStemmer"
   ]
  },
  {
   "cell_type": "code",
   "execution_count": 30,
   "metadata": {},
   "outputs": [],
   "source": [
    "from datetime import datetime\n",
    "\n",
    "def convert_dt(s):\n",
    "    return datetime.strptime(s, '%m/%d/%Y')\n",
    "\n",
    "def get_date(d):\n",
    "    return int(d.days)"
   ]
  },
  {
   "cell_type": "code",
   "execution_count": null,
   "metadata": {},
   "outputs": [],
   "source": [
    "ps.stem('opening')"
   ]
  },
  {
   "cell_type": "code",
   "execution_count": 31,
   "metadata": {},
   "outputs": [],
   "source": [
    "def preprocess_data(s):\n",
    "    s = s.lower()\n",
    "    data = re.sub(r'[^\\x00-\\x7F]+', ' ', s)\n",
    "    final_str = data.translate(None, string.punctuation)\n",
    "    filter_str = final_str.translate(None, digits)\n",
    "    nltk_tokens = nltk.word_tokenize(filter_str)\n",
    "    #Next find the roots of the word\n",
    "    str_= ''\n",
    "    for w in nltk_tokens:\n",
    "\n",
    "        if w not in stopwords.words('english'):\n",
    "            p  = (lemmatizer.lemmatize(w))\n",
    "            str_ += ' '  + ps.stem(p)\n",
    "    \n",
    "    return str_.strip()"
   ]
  },
  {
   "cell_type": "code",
   "execution_count": null,
   "metadata": {},
   "outputs": [],
   "source": [
    "def loadGloveModel(gloveFile):\n",
    "    print \"Loading Glove Model\"\n",
    "    f = open(gloveFile,'r')\n",
    "    model = {}\n",
    "    for line in f:\n",
    "        splitLine = line.split()\n",
    "        word = splitLine[0]\n",
    "        embedding = np.array([float(val) for val in splitLine[1:]])\n",
    "        model[word] = embedding\n",
    "    print \"Done.\",len(model),\" words loaded!\"\n",
    "    return model\n",
    "\n",
    "model = loadGloveModel('/home/prashant/Downloads/kagsa/data/glove.840B.300d.txt')\n",
    "#vocab = model.keys()"
   ]
  },
  {
   "cell_type": "code",
   "execution_count": null,
   "metadata": {},
   "outputs": [],
   "source": [
    "def get_vector(model,all_data):\n",
    "    vector_sen = []\n",
    "    for d in all_data:\n",
    "        single_sen_vec = []\n",
    "        words = d.split(' ')\n",
    "        vec_created =  0.0\n",
    "        for w in words:\n",
    "            try:\n",
    "                get_word_vec = model[w]\n",
    "                vec_created += 1.0\n",
    "            except:\n",
    "                pass\n",
    "        if vec_created / len(words) > .5: \n",
    "            single_sen_vec.append(get_word_vec)\n",
    "            v = np.array(single_sen_vec).mean(axis=0)\n",
    "            vector_sen.append(v)\n",
    "            sent =1\n",
    "        else:\n",
    "            vector_sen.append(np.zeros(300))\n",
    "            sent = 0 \n",
    "    return (vector_sen)"
   ]
  },
  {
   "cell_type": "code",
   "execution_count": 35,
   "metadata": {},
   "outputs": [],
   "source": [
    "df_less = pd.read_csv('/home/prashant/Downloads/c3cc8568-0-dataset/train.csv')\n",
    "df_less['tag'] = 'train'\n"
   ]
  },
  {
   "cell_type": "code",
   "execution_count": 36,
   "metadata": {},
   "outputs": [
    {
     "data": {
      "text/html": [
       "<div>\n",
       "<style scoped>\n",
       "    .dataframe tbody tr th:only-of-type {\n",
       "        vertical-align: middle;\n",
       "    }\n",
       "\n",
       "    .dataframe tbody tr th {\n",
       "        vertical-align: top;\n",
       "    }\n",
       "\n",
       "    .dataframe thead th {\n",
       "        text-align: right;\n",
       "    }\n",
       "</style>\n",
       "<table border=\"1\" class=\"dataframe\">\n",
       "  <thead>\n",
       "    <tr style=\"text-align: right;\">\n",
       "      <th></th>\n",
       "      <th>Complaint-ID</th>\n",
       "      <th>Date-received</th>\n",
       "      <th>Transaction-Type</th>\n",
       "      <th>Complaint-reason</th>\n",
       "      <th>Company-response</th>\n",
       "      <th>Date-sent-to-company</th>\n",
       "      <th>Complaint-Status</th>\n",
       "      <th>Consumer-disputes</th>\n",
       "      <th>Consumer-complaint-summary</th>\n",
       "      <th>tag</th>\n",
       "    </tr>\n",
       "  </thead>\n",
       "  <tbody>\n",
       "    <tr>\n",
       "      <th>0</th>\n",
       "      <td>Tr-1</td>\n",
       "      <td>11/11/2015</td>\n",
       "      <td>Mortgage</td>\n",
       "      <td>Loan servicing, payments, escrow account</td>\n",
       "      <td>NaN</td>\n",
       "      <td>11/11/2015</td>\n",
       "      <td>Closed with explanation</td>\n",
       "      <td>Yes</td>\n",
       "      <td>Seterus, Inc a déposé un faux rapport auprès d...</td>\n",
       "      <td>train</td>\n",
       "    </tr>\n",
       "    <tr>\n",
       "      <th>1</th>\n",
       "      <td>Tr-2</td>\n",
       "      <td>7/7/2015</td>\n",
       "      <td>Credit reporting</td>\n",
       "      <td>Incorrect information on credit report</td>\n",
       "      <td>Company chooses not to provide a public response</td>\n",
       "      <td>7/7/2015</td>\n",
       "      <td>Closed with non-monetary relief</td>\n",
       "      <td>No</td>\n",
       "      <td>XX / XX / XXXX La requête en faillite n ° XXXX...</td>\n",
       "      <td>train</td>\n",
       "    </tr>\n",
       "    <tr>\n",
       "      <th>2</th>\n",
       "      <td>Tr-3</td>\n",
       "      <td>5/7/2015</td>\n",
       "      <td>Bank account or service</td>\n",
       "      <td>Using a debit or ATM card</td>\n",
       "      <td>NaN</td>\n",
       "      <td>5/7/2015</td>\n",
       "      <td>Closed with explanation</td>\n",
       "      <td>No</td>\n",
       "      <td>El XXXX / XXXX / 15, estaba preparando el vuel...</td>\n",
       "      <td>train</td>\n",
       "    </tr>\n",
       "    <tr>\n",
       "      <th>3</th>\n",
       "      <td>Tr-4</td>\n",
       "      <td>11/12/2016</td>\n",
       "      <td>Debt collection</td>\n",
       "      <td>Cont'd attempts collect debt not owed</td>\n",
       "      <td>Company believes it acted appropriately as aut...</td>\n",
       "      <td>11/12/2016</td>\n",
       "      <td>Closed with explanation</td>\n",
       "      <td>No</td>\n",
       "      <td>The loan was paid in XXXX XXXX. In XXXX, 4 yea...</td>\n",
       "      <td>train</td>\n",
       "    </tr>\n",
       "    <tr>\n",
       "      <th>4</th>\n",
       "      <td>Tr-5</td>\n",
       "      <td>9/29/2016</td>\n",
       "      <td>Credit card</td>\n",
       "      <td>Payoff process</td>\n",
       "      <td>Company has responded to the consumer and the ...</td>\n",
       "      <td>9/29/2016</td>\n",
       "      <td>Closed with explanation</td>\n",
       "      <td>No</td>\n",
       "      <td>J'ai obtenu un compte de crédit de soins pour ...</td>\n",
       "      <td>train</td>\n",
       "    </tr>\n",
       "  </tbody>\n",
       "</table>\n",
       "</div>"
      ],
      "text/plain": [
       "  Complaint-ID Date-received         Transaction-Type  \\\n",
       "0         Tr-1    11/11/2015                 Mortgage   \n",
       "1         Tr-2      7/7/2015         Credit reporting   \n",
       "2         Tr-3      5/7/2015  Bank account or service   \n",
       "3         Tr-4    11/12/2016          Debt collection   \n",
       "4         Tr-5     9/29/2016              Credit card   \n",
       "\n",
       "                           Complaint-reason  \\\n",
       "0  Loan servicing, payments, escrow account   \n",
       "1    Incorrect information on credit report   \n",
       "2                 Using a debit or ATM card   \n",
       "3     Cont'd attempts collect debt not owed   \n",
       "4                            Payoff process   \n",
       "\n",
       "                                    Company-response Date-sent-to-company  \\\n",
       "0                                                NaN           11/11/2015   \n",
       "1   Company chooses not to provide a public response             7/7/2015   \n",
       "2                                                NaN             5/7/2015   \n",
       "3  Company believes it acted appropriately as aut...           11/12/2016   \n",
       "4  Company has responded to the consumer and the ...            9/29/2016   \n",
       "\n",
       "                  Complaint-Status Consumer-disputes  \\\n",
       "0          Closed with explanation               Yes   \n",
       "1  Closed with non-monetary relief                No   \n",
       "2          Closed with explanation                No   \n",
       "3          Closed with explanation                No   \n",
       "4          Closed with explanation                No   \n",
       "\n",
       "                          Consumer-complaint-summary    tag  \n",
       "0  Seterus, Inc a déposé un faux rapport auprès d...  train  \n",
       "1  XX / XX / XXXX La requête en faillite n ° XXXX...  train  \n",
       "2  El XXXX / XXXX / 15, estaba preparando el vuel...  train  \n",
       "3  The loan was paid in XXXX XXXX. In XXXX, 4 yea...  train  \n",
       "4  J'ai obtenu un compte de crédit de soins pour ...  train  "
      ]
     },
     "execution_count": 36,
     "metadata": {},
     "output_type": "execute_result"
    }
   ],
   "source": [
    "df_less.head()"
   ]
  },
  {
   "cell_type": "code",
   "execution_count": 33,
   "metadata": {},
   "outputs": [],
   "source": [
    "df_more =  pd.read_csv('/home/prashant/Downloads/c3cc8568-0-dataset/more_data.csv')"
   ]
  },
  {
   "cell_type": "code",
   "execution_count": 34,
   "metadata": {},
   "outputs": [
    {
     "data": {
      "text/html": [
       "<div>\n",
       "<style scoped>\n",
       "    .dataframe tbody tr th:only-of-type {\n",
       "        vertical-align: middle;\n",
       "    }\n",
       "\n",
       "    .dataframe tbody tr th {\n",
       "        vertical-align: top;\n",
       "    }\n",
       "\n",
       "    .dataframe thead th {\n",
       "        text-align: right;\n",
       "    }\n",
       "</style>\n",
       "<table border=\"1\" class=\"dataframe\">\n",
       "  <thead>\n",
       "    <tr style=\"text-align: right;\">\n",
       "      <th></th>\n",
       "      <th>product</th>\n",
       "      <th>company_response_to_consumer</th>\n",
       "    </tr>\n",
       "  </thead>\n",
       "  <tbody>\n",
       "    <tr>\n",
       "      <th>0</th>\n",
       "      <td>Mortgage</td>\n",
       "      <td>Closed with explanation</td>\n",
       "    </tr>\n",
       "    <tr>\n",
       "      <th>1</th>\n",
       "      <td>Mortgage</td>\n",
       "      <td>Closed with explanation</td>\n",
       "    </tr>\n",
       "    <tr>\n",
       "      <th>2</th>\n",
       "      <td>Credit reporting</td>\n",
       "      <td>Closed with explanation</td>\n",
       "    </tr>\n",
       "    <tr>\n",
       "      <th>3</th>\n",
       "      <td>Student loan</td>\n",
       "      <td>Closed with explanation</td>\n",
       "    </tr>\n",
       "    <tr>\n",
       "      <th>4</th>\n",
       "      <td>Debt collection</td>\n",
       "      <td>Closed with explanation</td>\n",
       "    </tr>\n",
       "  </tbody>\n",
       "</table>\n",
       "</div>"
      ],
      "text/plain": [
       "            product company_response_to_consumer\n",
       "0          Mortgage      Closed with explanation\n",
       "1          Mortgage      Closed with explanation\n",
       "2  Credit reporting      Closed with explanation\n",
       "3      Student loan      Closed with explanation\n",
       "4   Debt collection      Closed with explanation"
      ]
     },
     "execution_count": 34,
     "metadata": {},
     "output_type": "execute_result"
    }
   ],
   "source": [
    "df_more.head()"
   ]
  },
  {
   "cell_type": "code",
   "execution_count": 38,
   "metadata": {},
   "outputs": [],
   "source": [
    "df_less = df_less[['Transaction-Type','Complaint-Status']]"
   ]
  },
  {
   "cell_type": "code",
   "execution_count": 37,
   "metadata": {},
   "outputs": [],
   "source": [
    "df_more.columns = ['Transaction-Type','Complaint-Status']"
   ]
  },
  {
   "cell_type": "code",
   "execution_count": 39,
   "metadata": {},
   "outputs": [],
   "source": [
    "df_train = pd.concat([df_more,df_less],axis =0)"
   ]
  },
  {
   "cell_type": "code",
   "execution_count": null,
   "metadata": {},
   "outputs": [],
   "source": []
  },
  {
   "cell_type": "code",
   "execution_count": 40,
   "metadata": {},
   "outputs": [
    {
     "name": "stdout",
     "output_type": "stream",
     "text": [
      "(18543, 9)\n"
     ]
    }
   ],
   "source": [
    "df_test = pd.read_csv('/home/prashant/Downloads/c3cc8568-0-dataset/test.csv') \n",
    "df_test['tag'] = 'test'\n",
    "print df_test.shape"
   ]
  },
  {
   "cell_type": "code",
   "execution_count": null,
   "metadata": {},
   "outputs": [],
   "source": [
    "df_train.head()"
   ]
  },
  {
   "cell_type": "code",
   "execution_count": null,
   "metadata": {},
   "outputs": [],
   "source": []
  },
  {
   "cell_type": "code",
   "execution_count": 41,
   "metadata": {},
   "outputs": [
    {
     "name": "stdout",
     "output_type": "stream",
     "text": [
      "train-- done\n",
      "test -- done\n"
     ]
    }
   ],
   "source": [
    "df_train['Transaction-Type_pre'] = df_train['Transaction-Type'].apply(preprocess_data)\n",
    "print 'train-- done'\n",
    "df_test['Transaction-Type_pre'] = df_test['Transaction-Type'].apply(preprocess_data)\n",
    "print 'test -- done'"
   ]
  },
  {
   "cell_type": "code",
   "execution_count": 42,
   "metadata": {},
   "outputs": [],
   "source": [
    "df_train['Transaction-Type_pre'] = df_train['Transaction-Type_pre'].map(lambda x : x.replace(' ','_'))\n",
    "df_test['Transaction-Type_pre'] = df_test['Transaction-Type_pre'].map(lambda x : x.replace(' ','_'))"
   ]
  },
  {
   "cell_type": "code",
   "execution_count": 65,
   "metadata": {},
   "outputs": [
    {
     "data": {
      "text/html": [
       "<div>\n",
       "<style scoped>\n",
       "    .dataframe tbody tr th:only-of-type {\n",
       "        vertical-align: middle;\n",
       "    }\n",
       "\n",
       "    .dataframe tbody tr th {\n",
       "        vertical-align: top;\n",
       "    }\n",
       "\n",
       "    .dataframe thead th {\n",
       "        text-align: right;\n",
       "    }\n",
       "</style>\n",
       "<table border=\"1\" class=\"dataframe\">\n",
       "  <thead>\n",
       "    <tr style=\"text-align: right;\">\n",
       "      <th></th>\n",
       "      <th>Transaction-Type</th>\n",
       "      <th>Complaint-Status</th>\n",
       "      <th>Transaction-Type_pre</th>\n",
       "    </tr>\n",
       "  </thead>\n",
       "  <tbody>\n",
       "    <tr>\n",
       "      <th>43256</th>\n",
       "      <td>Mortgage</td>\n",
       "      <td>Closed with explanation</td>\n",
       "      <td>mortgag</td>\n",
       "    </tr>\n",
       "    <tr>\n",
       "      <th>43257</th>\n",
       "      <td>Credit card</td>\n",
       "      <td>Closed with explanation</td>\n",
       "      <td>credit_card</td>\n",
       "    </tr>\n",
       "    <tr>\n",
       "      <th>43258</th>\n",
       "      <td>Debt collection</td>\n",
       "      <td>Closed with explanation</td>\n",
       "      <td>debt_collect</td>\n",
       "    </tr>\n",
       "    <tr>\n",
       "      <th>43259</th>\n",
       "      <td>Mortgage</td>\n",
       "      <td>Closed with explanation</td>\n",
       "      <td>mortgag</td>\n",
       "    </tr>\n",
       "    <tr>\n",
       "      <th>43260</th>\n",
       "      <td>Credit reporting, credit repair services, or o...</td>\n",
       "      <td>Closed with explanation</td>\n",
       "      <td>credit_report_credit_repair_servic_person_cons...</td>\n",
       "    </tr>\n",
       "    <tr>\n",
       "      <th>43261</th>\n",
       "      <td>Credit reporting, credit repair services, or o...</td>\n",
       "      <td>Closed with explanation</td>\n",
       "      <td>credit_report_credit_repair_servic_person_cons...</td>\n",
       "    </tr>\n",
       "    <tr>\n",
       "      <th>43262</th>\n",
       "      <td>Debt collection</td>\n",
       "      <td>Closed with explanation</td>\n",
       "      <td>debt_collect</td>\n",
       "    </tr>\n",
       "    <tr>\n",
       "      <th>43263</th>\n",
       "      <td>Mortgage</td>\n",
       "      <td>Closed with explanation</td>\n",
       "      <td>mortgag</td>\n",
       "    </tr>\n",
       "    <tr>\n",
       "      <th>43264</th>\n",
       "      <td>Mortgage</td>\n",
       "      <td>Closed with explanation</td>\n",
       "      <td>mortgag</td>\n",
       "    </tr>\n",
       "    <tr>\n",
       "      <th>43265</th>\n",
       "      <td>Debt collection</td>\n",
       "      <td>Closed with explanation</td>\n",
       "      <td>debt_collect</td>\n",
       "    </tr>\n",
       "  </tbody>\n",
       "</table>\n",
       "</div>"
      ],
      "text/plain": [
       "                                        Transaction-Type  \\\n",
       "43256                                           Mortgage   \n",
       "43257                                        Credit card   \n",
       "43258                                    Debt collection   \n",
       "43259                                           Mortgage   \n",
       "43260  Credit reporting, credit repair services, or o...   \n",
       "43261  Credit reporting, credit repair services, or o...   \n",
       "43262                                    Debt collection   \n",
       "43263                                           Mortgage   \n",
       "43264                                           Mortgage   \n",
       "43265                                    Debt collection   \n",
       "\n",
       "              Complaint-Status  \\\n",
       "43256  Closed with explanation   \n",
       "43257  Closed with explanation   \n",
       "43258  Closed with explanation   \n",
       "43259  Closed with explanation   \n",
       "43260  Closed with explanation   \n",
       "43261  Closed with explanation   \n",
       "43262  Closed with explanation   \n",
       "43263  Closed with explanation   \n",
       "43264  Closed with explanation   \n",
       "43265  Closed with explanation   \n",
       "\n",
       "                                    Transaction-Type_pre  \n",
       "43256                                            mortgag  \n",
       "43257                                        credit_card  \n",
       "43258                                       debt_collect  \n",
       "43259                                            mortgag  \n",
       "43260  credit_report_credit_repair_servic_person_cons...  \n",
       "43261  credit_report_credit_repair_servic_person_cons...  \n",
       "43262                                       debt_collect  \n",
       "43263                                            mortgag  \n",
       "43264                                            mortgag  \n",
       "43265                                       debt_collect  "
      ]
     },
     "execution_count": 65,
     "metadata": {},
     "output_type": "execute_result"
    }
   ],
   "source": [
    "df_train.tail(10)"
   ]
  },
  {
   "cell_type": "code",
   "execution_count": 11,
   "metadata": {},
   "outputs": [
    {
     "name": "stdout",
     "output_type": "stream",
     "text": [
      "train-- done\n",
      "test -- done\n"
     ]
    }
   ],
   "source": [
    "# df_train['Complaint-reason'] = df_train['Complaint-reason'].apply(preprocess_data)\n",
    "# print 'train-- done'\n",
    "# df_test['Complaint-reason'] = df_test['Complaint-reason'].apply(preprocess_data)\n",
    "# print 'test -- done'"
   ]
  },
  {
   "cell_type": "code",
   "execution_count": null,
   "metadata": {},
   "outputs": [],
   "source": [
    "# df_train['Consumer-complaint-summary_pre'] = df_train['Consumer-complaint-summary'].apply(preprocess_data)\n",
    "# print 'train-- done'\n",
    "# df_test['Consumer-complaint-summary_pre'] = df_test['Consumer-complaint-summary'].apply(preprocess_data)\n",
    "# print 'test -- done'"
   ]
  },
  {
   "cell_type": "code",
   "execution_count": null,
   "metadata": {},
   "outputs": [],
   "source": [
    "# df_train['Complaint-Status'].value_counts()"
   ]
  },
  {
   "cell_type": "code",
   "execution_count": null,
   "metadata": {},
   "outputs": [],
   "source": [
    "# df_train['Consumer-complaint-summary_pre'] = df_train['Consumer-complaint-summary_pre'].map(lambda x : re.sub(\"x+\",\"\",x))\n",
    "# df_test['Consumer-complaint-summary_pre'] = df_test['Consumer-complaint-summary_pre'].map(lambda x : re.sub(\"x+\",\"\",x))"
   ]
  },
  {
   "cell_type": "code",
   "execution_count": null,
   "metadata": {},
   "outputs": [],
   "source": [
    "# df_train['Date-received'] = df_train['Date-received'].apply(convert_dt)\n",
    "# df_test['Date-sent-to-company'] = df_test['Date-sent-to-company'].apply(convert_dt)"
   ]
  },
  {
   "cell_type": "code",
   "execution_count": null,
   "metadata": {},
   "outputs": [],
   "source": [
    "# df_train['Date-sent-to-company'] = df_train['Date-sent-to-company'].apply(convert_dt)\n",
    "# df_test['Date-received'] = df_test['Date-received'].apply(convert_dt)"
   ]
  },
  {
   "cell_type": "code",
   "execution_count": null,
   "metadata": {},
   "outputs": [],
   "source": [
    "# df_train['date_sub'] = (df_train['Date-sent-to-company'] -  df_train['Date-received'])\n",
    "# df_test['date_sub'] = (df_test['Date-sent-to-company'] -  df_test['Date-received'])\n",
    "\n",
    "# df_train['date_sub'] = df_train['date_sub'].apply(get_date) \n",
    "# df_test['date_sub'] = df_test['date_sub'].apply(get_date) "
   ]
  },
  {
   "cell_type": "code",
   "execution_count": 43,
   "metadata": {},
   "outputs": [
    {
     "name": "stdout",
     "output_type": "stream",
     "text": [
      "(590155, 18)\n"
     ]
    }
   ],
   "source": [
    "from sklearn.feature_extraction.text import TfidfVectorizer\n",
    "\n",
    "text = list(df_train['Transaction-Type_pre'])\n",
    "text.extend(list(df_test['Transaction-Type_pre']))\n",
    "\n",
    "\n",
    "vecto = TfidfVectorizer(min_df=1)\n",
    "\n",
    "# tokenize and build vocab\n",
    "vecto.fit(text)\n",
    "\n",
    "fet = df_train['Transaction-Type_pre']\n",
    "# encode document\n",
    "vectors = vecto.transform(fet)\n",
    "# summarize encodehd vector\n",
    "print(vectors.shape)\n",
    "#print(vector.toarray())\n"
   ]
  },
  {
   "cell_type": "code",
   "execution_count": null,
   "metadata": {},
   "outputs": [],
   "source": []
  },
  {
   "cell_type": "code",
   "execution_count": 44,
   "metadata": {},
   "outputs": [
    {
     "name": "stdout",
     "output_type": "stream",
     "text": [
      "(18543, 18)\n"
     ]
    }
   ],
   "source": [
    "# vectors = get_vector(model,list(df_train['Consumer-complaint-summary_pre']))\n",
    "# vectors_test =  get_vector(model,list(df_test['Consumer-complaint-summary_pre']))\n",
    "from sklearn.feature_extraction.text import TfidfVectorizer\n",
    "\n",
    "text = (df_test['Transaction-Type_pre'])\n",
    "\n",
    "# encode document\n",
    "vectors_test = vecto.transform(text)\n",
    "# summarize encoded vector\n",
    "print(vectors_test.shape)\n",
    "#print(vector.toarray())\n"
   ]
  },
  {
   "cell_type": "code",
   "execution_count": 45,
   "metadata": {},
   "outputs": [],
   "source": [
    "from sklearn.feature_extraction.text import TfidfVectorizer\n",
    "\n",
    "text = list(df_train['Complaint-reason'])\n",
    "text.extend(list(df_test['Complaint-reason']))\n",
    "\n",
    "\n",
    "vectorizer = TfidfVectorizer(min_df=5)\n",
    "\n",
    "# tokenize and build vocab\n",
    "vectorizer.fit(text)\n",
    "\n",
    "fet = df_train['Complaint-reason']\n",
    "# encode document\n",
    "vector_cr = vectorizer.transform(fet)\n",
    "# summarize encoded vector\n",
    "print(vector_cr.shape)\n",
    "#print(vector.toarray())\n"
   ]
  },
  {
   "cell_type": "code",
   "execution_count": null,
   "metadata": {},
   "outputs": [],
   "source": [
    "df_"
   ]
  },
  {
   "cell_type": "code",
   "execution_count": 46,
   "metadata": {},
   "outputs": [],
   "source": [
    "# from sklearn.feature_extraction.text import TfidfVectorizer\n",
    "\n",
    "# text = (df_test['Complaint-reason'])\n",
    "\n",
    "# # encode document\n",
    "# vector_cr_test = vectorizer.transform(text)\n",
    "# # summarize encoded vector\n",
    "# print(vector_cr_test.shape)\n",
    "# #print(vector.toarray())\n"
   ]
  },
  {
   "cell_type": "code",
   "execution_count": 48,
   "metadata": {},
   "outputs": [],
   "source": [
    "# vec_cr_df = pd.DataFrame(vector_cr.toarray())\n",
    "# vec_cr_df_test = pd.DataFrame(vector_cr_test.toarray())\n",
    "\n",
    "# print vec_cr_df.shape\n",
    "# print vec_cr_df_test.shape"
   ]
  },
  {
   "cell_type": "code",
   "execution_count": null,
   "metadata": {},
   "outputs": [],
   "source": []
  },
  {
   "cell_type": "code",
   "execution_count": 50,
   "metadata": {},
   "outputs": [
    {
     "name": "stdout",
     "output_type": "stream",
     "text": [
      "(590155, 18)\n",
      "(18543, 18)\n"
     ]
    }
   ],
   "source": [
    "vec_cs_df = pd.DataFrame(vectors.toarray())\n",
    "vec_cs_df_test =  pd.DataFrame(vectors_test.toarray())\n",
    "print vec_cs_df.shape\n",
    "print vec_cs_df_test.shape"
   ]
  },
  {
   "cell_type": "code",
   "execution_count": 51,
   "metadata": {},
   "outputs": [
    {
     "data": {
      "text/plain": [
       "(590155, 18)"
      ]
     },
     "execution_count": 51,
     "metadata": {},
     "output_type": "execute_result"
    }
   ],
   "source": [
    "ndf = pd.concat([vec_cs_df],axis =1)\n",
    "ndf.shape"
   ]
  },
  {
   "cell_type": "code",
   "execution_count": null,
   "metadata": {},
   "outputs": [],
   "source": [
    "# import time\n",
    "# from sklearn.manifold import TSNE\n",
    "# n_sne = 7000\n",
    "# time_start = time.time()\n",
    "# tsne = TSNE(n_components=3, verbose=1, perplexity=40, n_iter=300)\n",
    "# ndf = tsne.fit_transform(ndf)\n",
    "# print 'train done'\n",
    "\n",
    "# import time\n",
    "# from sklearn.manifold import TSNE\n",
    "# n_sne = 7000 \n",
    "# time_start = time.time()\n",
    "# tsne = TSNE(n_components=3, verbose=1, perplexity=40, n_iter=300)\n",
    "# ndf_test = tsne.fit_transform(ndf_test)"
   ]
  },
  {
   "cell_type": "code",
   "execution_count": 52,
   "metadata": {},
   "outputs": [
    {
     "data": {
      "text/plain": [
       "(18543, 18)"
      ]
     },
     "execution_count": 52,
     "metadata": {},
     "output_type": "execute_result"
    }
   ],
   "source": [
    "ndf_test = pd.concat([vec_cs_df_test],axis =1)\n",
    "ndf_test.shape"
   ]
  },
  {
   "cell_type": "code",
   "execution_count": null,
   "metadata": {},
   "outputs": [],
   "source": [
    "# ndf = pd.DataFrame(ndf)\n",
    "# ndf_test = pd.DataFrame(ndf_test)\n"
   ]
  },
  {
   "cell_type": "code",
   "execution_count": null,
   "metadata": {},
   "outputs": [],
   "source": [
    "# #Finding number of parameters\n",
    "# from sklearn.decomposition import PCA\n",
    "# #Fitting the PCA algorithm with our Data\n",
    "# pca = PCA().fit(ndf)"
   ]
  },
  {
   "cell_type": "code",
   "execution_count": null,
   "metadata": {},
   "outputs": [],
   "source": [
    "# #Plotting the Cumulative Summation of the Explained Variance\n",
    "# import matplotlib.pyplot as plt \n",
    "# %matplotlib inline\n",
    "# plt.figure()\n",
    "# plt.plot(np.cumsum(pca.explained_variance_ratio_))\n",
    "# plt.xlabel('Number of Components')\n",
    "# plt.ylabel('Variance (%)') #for each component\n",
    "# plt.title('Pulsar Dataset Explained Variance')\n",
    "# plt.show()"
   ]
  },
  {
   "cell_type": "code",
   "execution_count": null,
   "metadata": {},
   "outputs": [],
   "source": [
    "# # ndf['Transaction-Type'] = df_train['Transaction-Type_pre']\n",
    "# # ndf_test['Transaction-Type'] = df_test['Transaction-Type_pre']\n",
    "# pca = PCA(n_components=75)\n",
    "# ndf = pca.fit_transform(ndf)"
   ]
  },
  {
   "cell_type": "code",
   "execution_count": null,
   "metadata": {},
   "outputs": [],
   "source": [
    "# ndf_test = pca.fit_transform(ndf_test)"
   ]
  },
  {
   "cell_type": "code",
   "execution_count": 53,
   "metadata": {},
   "outputs": [],
   "source": [
    "# # ndf['date_sub'] = df_train['date_sub']\n",
    "# # ndf_test['date_sub'] = df_test['date_sub']\n",
    "ndf = pd.DataFrame(ndf)\n",
    "ndf_test =  pd.DataFrame(ndf_test)"
   ]
  },
  {
   "cell_type": "code",
   "execution_count": null,
   "metadata": {},
   "outputs": [],
   "source": []
  },
  {
   "cell_type": "code",
   "execution_count": 54,
   "metadata": {},
   "outputs": [],
   "source": [
    "ndf['Complaint-Status'] = list(df_train['Complaint-Status'])\n",
    "#ndf_test['Complaint-Status'] = df_test['Complaint-Status']"
   ]
  },
  {
   "cell_type": "code",
   "execution_count": null,
   "metadata": {},
   "outputs": [],
   "source": [
    "#ndf['Consumer-disputes'] = df_train['Consumer-disputes']\n",
    "#ndf_test['Consumer-disputes'] = df_test['Consumer-disputes']"
   ]
  },
  {
   "cell_type": "code",
   "execution_count": null,
   "metadata": {},
   "outputs": [],
   "source": [
    "# ndf = pd.get_dummies(ndf , columns=['Transaction-Type'])"
   ]
  },
  {
   "cell_type": "code",
   "execution_count": null,
   "metadata": {},
   "outputs": [],
   "source": [
    "# ndf_test = pd.get_dummies(ndf_test, columns=['Transaction-Type'])"
   ]
  },
  {
   "cell_type": "code",
   "execution_count": null,
   "metadata": {},
   "outputs": [],
   "source": []
  },
  {
   "cell_type": "code",
   "execution_count": 55,
   "metadata": {},
   "outputs": [],
   "source": [
    "y_train = ndf['Complaint-Status']\n",
    "x_train = ndf.drop(['Complaint-Status'],axis =1)"
   ]
  },
  {
   "cell_type": "code",
   "execution_count": 56,
   "metadata": {},
   "outputs": [],
   "source": [
    "from sklearn.model_selection import train_test_split\n",
    "from sklearn.naive_bayes import MultinomialNB,GaussianNB\n",
    "from sklearn.linear_model import LogisticRegression\n",
    "X_train, X_test, y_train_internal, y_test_internal = train_test_split(x_train , y_train)"
   ]
  },
  {
   "cell_type": "code",
   "execution_count": 66,
   "metadata": {},
   "outputs": [],
   "source": [
    "from sklearn.multiclass import OneVsRestClassifier\n",
    "# # Import the model we are using\n",
    "from sklearn.ensemble import RandomForestClassifier\n",
    "\n",
    "# # Instantiate model with 1000 decision trees\n",
    "rf = RandomForestClassifier(n_estimators = 200, random_state = 42)\n",
    "#rf = MultinomialNB()\n",
    "# # Train the model on training data\n",
    "\n",
    "\n",
    "gnb = OneVsRestClassifier(rf).fit(X_train, y_train_internal)\n",
    "#pred_internal = gnb.predict(X_test)"
   ]
  },
  {
   "cell_type": "code",
   "execution_count": null,
   "metadata": {},
   "outputs": [],
   "source": [
    "# from sklearn.neighbors import KNeighborsClassifier\n",
    "# neigh = KNeighborsClassifier(n_neighbors=3)\n",
    "# gnb = OneVsRestClassifier(neigh).fit(x_train, y_train)"
   ]
  },
  {
   "cell_type": "code",
   "execution_count": null,
   "metadata": {},
   "outputs": [],
   "source": [
    "# from sklearn.linear_model import SGDClassifier\n",
    "# from sklearn.pipeline import Pipeline\n",
    "# from sklearn.feature_extraction.text import CountVectorizer,TfidfTransformer\n",
    "# text_clf_svm = Pipeline([('clf-svm', SGDClassifier(loss='hinge', penalty='l2',\\\n",
    "# alpha=1e-3, n_iter=50, random_state=42))])\n",
    "# _ = OneVsRestClassifier(text_clf_svm.fit(x_train, y_train))\n",
    "# #predicted_svm = text_clf_svm.predict(twenty_test.data)"
   ]
  },
  {
   "cell_type": "code",
   "execution_count": 58,
   "metadata": {},
   "outputs": [],
   "source": [
    "pred_internal = gnb.predict(X_test)"
   ]
  },
  {
   "cell_type": "code",
   "execution_count": null,
   "metadata": {},
   "outputs": [],
   "source": []
  },
  {
   "cell_type": "code",
   "execution_count": null,
   "metadata": {},
   "outputs": [],
   "source": [
    "# # Import the model we are using\n",
    "# from sklearn.ensemble import RandomForestClassifier\n",
    "\n",
    "# # Instantiate model with 1000 decision trees\n",
    "# rf = RandomForestClassifier(n_estimators = 200, random_state = 42)\n",
    "\n",
    "# # Train the model on training data\n",
    "# rm = rf.fit(X_train, y_train_internal)\n",
    "# pred_internal = rm.predict(X_test)"
   ]
  },
  {
   "cell_type": "code",
   "execution_count": 59,
   "metadata": {},
   "outputs": [
    {
     "data": {
      "text/plain": [
       "0.8524840070777188"
      ]
     },
     "execution_count": 59,
     "metadata": {},
     "output_type": "execute_result"
    }
   ],
   "source": [
    "import sklearn\n",
    "sklearn.metrics.f1_score(pred_internal,y_test_internal,average='weighted')"
   ]
  },
  {
   "cell_type": "code",
   "execution_count": 60,
   "metadata": {},
   "outputs": [],
   "source": [
    "id_ = list(df_test['Complaint-ID'])"
   ]
  },
  {
   "cell_type": "code",
   "execution_count": 25,
   "metadata": {},
   "outputs": [
    {
     "data": {
      "text/html": [
       "<div>\n",
       "<style scoped>\n",
       "    .dataframe tbody tr th:only-of-type {\n",
       "        vertical-align: middle;\n",
       "    }\n",
       "\n",
       "    .dataframe tbody tr th {\n",
       "        vertical-align: top;\n",
       "    }\n",
       "\n",
       "    .dataframe thead th {\n",
       "        text-align: right;\n",
       "    }\n",
       "</style>\n",
       "<table border=\"1\" class=\"dataframe\">\n",
       "  <thead>\n",
       "    <tr style=\"text-align: right;\">\n",
       "      <th></th>\n",
       "      <th>Complaint-ID</th>\n",
       "      <th>Date-received</th>\n",
       "      <th>Transaction-Type</th>\n",
       "      <th>Complaint-reason</th>\n",
       "      <th>Company-response</th>\n",
       "      <th>Date-sent-to-company</th>\n",
       "      <th>Consumer-disputes</th>\n",
       "      <th>Consumer-complaint-summary</th>\n",
       "      <th>tag</th>\n",
       "    </tr>\n",
       "  </thead>\n",
       "  <tbody>\n",
       "    <tr>\n",
       "      <th>0</th>\n",
       "      <td>Te-1</td>\n",
       "      <td>8/18/2016</td>\n",
       "      <td>Bank account or service</td>\n",
       "      <td>account open close manag</td>\n",
       "      <td>Company has responded to the consumer and the ...</td>\n",
       "      <td>8/18/2016</td>\n",
       "      <td>No</td>\n",
       "      <td>XXXX / XXXX / 16 I called Citibank to open a c...</td>\n",
       "      <td>test</td>\n",
       "    </tr>\n",
       "    <tr>\n",
       "      <th>1</th>\n",
       "      <td>Te-2</td>\n",
       "      <td>4/18/2016</td>\n",
       "      <td>Debt collection</td>\n",
       "      <td>commun tactic</td>\n",
       "      <td>Company believes it acted appropriately as aut...</td>\n",
       "      <td>4/20/2016</td>\n",
       "      <td>No</td>\n",
       "      <td>I'm struggling financially. I called and I off...</td>\n",
       "      <td>test</td>\n",
       "    </tr>\n",
       "    <tr>\n",
       "      <th>2</th>\n",
       "      <td>Te-3</td>\n",
       "      <td>3/23/2016</td>\n",
       "      <td>Credit reporting</td>\n",
       "      <td>incorrect inform credit report</td>\n",
       "      <td>NaN</td>\n",
       "      <td>3/23/2016</td>\n",
       "      <td>No</td>\n",
       "      <td>In XXXX of 2015, an automatic payment was conf...</td>\n",
       "      <td>test</td>\n",
       "    </tr>\n",
       "    <tr>\n",
       "      <th>3</th>\n",
       "      <td>Te-4</td>\n",
       "      <td>6/26/2017</td>\n",
       "      <td>Student loan</td>\n",
       "      <td>deal lender servic</td>\n",
       "      <td>NaN</td>\n",
       "      <td>6/26/2017</td>\n",
       "      <td>NaN</td>\n",
       "      <td>I submitted a request to XXXX, which is my cur...</td>\n",
       "      <td>test</td>\n",
       "    </tr>\n",
       "    <tr>\n",
       "      <th>4</th>\n",
       "      <td>Te-5</td>\n",
       "      <td>5/13/2016</td>\n",
       "      <td>Credit reporting</td>\n",
       "      <td>incorrect inform credit report</td>\n",
       "      <td>Company has responded to the consumer and the ...</td>\n",
       "      <td>5/13/2016</td>\n",
       "      <td>No</td>\n",
       "      <td>A state tax lien was filed against me XXXX / X...</td>\n",
       "      <td>test</td>\n",
       "    </tr>\n",
       "  </tbody>\n",
       "</table>\n",
       "</div>"
      ],
      "text/plain": [
       "  Complaint-ID Date-received         Transaction-Type  \\\n",
       "0         Te-1     8/18/2016  Bank account or service   \n",
       "1         Te-2     4/18/2016          Debt collection   \n",
       "2         Te-3     3/23/2016         Credit reporting   \n",
       "3         Te-4     6/26/2017             Student loan   \n",
       "4         Te-5     5/13/2016         Credit reporting   \n",
       "\n",
       "                 Complaint-reason  \\\n",
       "0        account open close manag   \n",
       "1                   commun tactic   \n",
       "2  incorrect inform credit report   \n",
       "3              deal lender servic   \n",
       "4  incorrect inform credit report   \n",
       "\n",
       "                                    Company-response Date-sent-to-company  \\\n",
       "0  Company has responded to the consumer and the ...            8/18/2016   \n",
       "1  Company believes it acted appropriately as aut...            4/20/2016   \n",
       "2                                                NaN            3/23/2016   \n",
       "3                                                NaN            6/26/2017   \n",
       "4  Company has responded to the consumer and the ...            5/13/2016   \n",
       "\n",
       "  Consumer-disputes                         Consumer-complaint-summary   tag  \n",
       "0                No  XXXX / XXXX / 16 I called Citibank to open a c...  test  \n",
       "1                No  I'm struggling financially. I called and I off...  test  \n",
       "2                No  In XXXX of 2015, an automatic payment was conf...  test  \n",
       "3               NaN  I submitted a request to XXXX, which is my cur...  test  \n",
       "4                No  A state tax lien was filed against me XXXX / X...  test  "
      ]
     },
     "execution_count": 25,
     "metadata": {},
     "output_type": "execute_result"
    }
   ],
   "source": [
    "# y_pred_prob = rm.predict_proba(ndf_test)\n",
    "df_test.head()"
   ]
  },
  {
   "cell_type": "code",
   "execution_count": 61,
   "metadata": {},
   "outputs": [],
   "source": [
    "y_pred = gnb.predict(ndf_test)"
   ]
  },
  {
   "cell_type": "code",
   "execution_count": null,
   "metadata": {},
   "outputs": [],
   "source": [
    "# tune_pred = []\n",
    "\n",
    "# for cnt,p in enumerate(y_pred_prob): \n",
    "#     if p[4] > .1:\n",
    "#         tune_pred.append('Untimely response')\n",
    "#         continue\n",
    "#     if p[0] > .1:\n",
    "#         tune_pred.append('Closed')\n",
    "#         continue\n",
    "\n",
    "#     tune_pred.append(y_pred[cnt])"
   ]
  },
  {
   "cell_type": "code",
   "execution_count": null,
   "metadata": {},
   "outputs": [],
   "source": [
    "# rm.classes_\n",
    "# print ''"
   ]
  },
  {
   "cell_type": "code",
   "execution_count": null,
   "metadata": {},
   "outputs": [],
   "source": []
  },
  {
   "cell_type": "code",
   "execution_count": 62,
   "metadata": {},
   "outputs": [],
   "source": [
    "result = pd.DataFrame(id_,columns=['Complaint-ID'])\n",
    "result['Complaint-Status'] = y_pred"
   ]
  },
  {
   "cell_type": "code",
   "execution_count": 63,
   "metadata": {},
   "outputs": [],
   "source": [
    "result.to_csv('/home/prashant/Downloads/c3cc8568-0-dataset/jugsa2.csv',index=None)"
   ]
  },
  {
   "cell_type": "code",
   "execution_count": null,
   "metadata": {},
   "outputs": [],
   "source": [
    "(result.loc[result['Complaint-Status'] == 'Closed with explanation' ])"
   ]
  },
  {
   "cell_type": "code",
   "execution_count": null,
   "metadata": {},
   "outputs": [],
   "source": [
    "result['cr'] = df_test['Complaint-reason']"
   ]
  },
  {
   "cell_type": "code",
   "execution_count": null,
   "metadata": {},
   "outputs": [],
   "source": [
    "r"
   ]
  },
  {
   "cell_type": "code",
   "execution_count": null,
   "metadata": {},
   "outputs": [],
   "source": [
    "df_test['Consumer-disputes'].value_counts()"
   ]
  },
  {
   "cell_type": "code",
   "execution_count": null,
   "metadata": {},
   "outputs": [],
   "source": [
    "df_train['Consumer-disputes'].value_counts()"
   ]
  },
  {
   "cell_type": "code",
   "execution_count": null,
   "metadata": {},
   "outputs": [],
   "source": []
  }
 ],
 "metadata": {
  "kernelspec": {
   "display_name": "Python 2",
   "language": "python",
   "name": "python2"
  },
  "language_info": {
   "codemirror_mode": {
    "name": "ipython",
    "version": 2
   },
   "file_extension": ".py",
   "mimetype": "text/x-python",
   "name": "python",
   "nbconvert_exporter": "python",
   "pygments_lexer": "ipython2",
   "version": "2.7.15"
  }
 },
 "nbformat": 4,
 "nbformat_minor": 2
}
