{
 "cells": [
  {
   "cell_type": "code",
   "execution_count": 1,
   "metadata": {},
   "outputs": [],
   "source": [
    "import pandas as pd\n",
    "import pandas as pd\n",
    "import re\n",
    "import string\n",
    "from sklearn.feature_extraction.text import TfidfVectorizer\n",
    "from sklearn.cluster import KMeans\n",
    "from nltk.corpus import stopwords\n",
    "from string import digits\n",
    "import numpy as np"
   ]
  },
  {
   "cell_type": "code",
   "execution_count": 2,
   "metadata": {},
   "outputs": [],
   "source": [
    "import nltk\n",
    "from nltk.stem.porter import PorterStemmer\n",
    "porter_stemmer = PorterStemmer()\n",
    "from nltk.stem import WordNetLemmatizer\n",
    "lemmatizer = WordNetLemmatizer()"
   ]
  },
  {
   "cell_type": "code",
   "execution_count": 3,
   "metadata": {},
   "outputs": [],
   "source": [
    "def preprocess_data(s):\n",
    "    s = s.lower()\n",
    "    data = re.sub(r'[^\\x00-\\x7F]+', ' ', s)\n",
    "    final_str = data.translate(None, string.punctuation)\n",
    "    filter_str = final_str.translate(None, digits)\n",
    "    nltk_tokens = nltk.word_tokenize(filter_str)\n",
    "    #Next find the roots of the word\n",
    "    str_= ''\n",
    "    for w in nltk_tokens:\n",
    "\n",
    "        if w not in stopwords.words('english'):\n",
    "            str_ += ' '  + (lemmatizer.lemmatize(w))\n",
    "    \n",
    "    return str_.strip()"
   ]
  },
  {
   "cell_type": "code",
   "execution_count": 29,
   "metadata": {},
   "outputs": [
    {
     "name": "stdout",
     "output_type": "stream",
     "text": [
      "(43266, 10)\n"
     ]
    }
   ],
   "source": [
    "df_train = pd.read_csv('/home/prashant/Downloads/c3cc8568-0-dataset/train.csv')\n",
    "df_train['tag'] = 'train'\n",
    "print df_train.shape"
   ]
  },
  {
   "cell_type": "code",
   "execution_count": 30,
   "metadata": {},
   "outputs": [
    {
     "name": "stdout",
     "output_type": "stream",
     "text": [
      "(18543, 9)\n"
     ]
    }
   ],
   "source": [
    "df_test = pd.read_csv('/home/prashant/Downloads/c3cc8568-0-dataset/test.csv') \n",
    "df_test['tag'] = 'test'\n",
    "print df_test.shape"
   ]
  },
  {
   "cell_type": "code",
   "execution_count": null,
   "metadata": {},
   "outputs": [],
   "source": []
  },
  {
   "cell_type": "code",
   "execution_count": 31,
   "metadata": {},
   "outputs": [
    {
     "name": "stdout",
     "output_type": "stream",
     "text": [
      "(43266, 10)\n"
     ]
    },
    {
     "data": {
      "text/html": [
       "<div>\n",
       "<style scoped>\n",
       "    .dataframe tbody tr th:only-of-type {\n",
       "        vertical-align: middle;\n",
       "    }\n",
       "\n",
       "    .dataframe tbody tr th {\n",
       "        vertical-align: top;\n",
       "    }\n",
       "\n",
       "    .dataframe thead th {\n",
       "        text-align: right;\n",
       "    }\n",
       "</style>\n",
       "<table border=\"1\" class=\"dataframe\">\n",
       "  <thead>\n",
       "    <tr style=\"text-align: right;\">\n",
       "      <th></th>\n",
       "      <th>Complaint-ID</th>\n",
       "      <th>Date-received</th>\n",
       "      <th>Transaction-Type</th>\n",
       "      <th>Complaint-reason</th>\n",
       "      <th>Company-response</th>\n",
       "      <th>Date-sent-to-company</th>\n",
       "      <th>Complaint-Status</th>\n",
       "      <th>Consumer-disputes</th>\n",
       "      <th>Consumer-complaint-summary</th>\n",
       "      <th>tag</th>\n",
       "    </tr>\n",
       "  </thead>\n",
       "  <tbody>\n",
       "    <tr>\n",
       "      <th>0</th>\n",
       "      <td>Tr-1</td>\n",
       "      <td>11/11/2015</td>\n",
       "      <td>Mortgage</td>\n",
       "      <td>Loan servicing, payments, escrow account</td>\n",
       "      <td>NaN</td>\n",
       "      <td>11/11/2015</td>\n",
       "      <td>Closed with explanation</td>\n",
       "      <td>Yes</td>\n",
       "      <td>Seterus, Inc a déposé un faux rapport auprès d...</td>\n",
       "      <td>train</td>\n",
       "    </tr>\n",
       "    <tr>\n",
       "      <th>1</th>\n",
       "      <td>Tr-2</td>\n",
       "      <td>7/7/2015</td>\n",
       "      <td>Credit reporting</td>\n",
       "      <td>Incorrect information on credit report</td>\n",
       "      <td>Company chooses not to provide a public response</td>\n",
       "      <td>7/7/2015</td>\n",
       "      <td>Closed with non-monetary relief</td>\n",
       "      <td>No</td>\n",
       "      <td>XX / XX / XXXX La requête en faillite n ° XXXX...</td>\n",
       "      <td>train</td>\n",
       "    </tr>\n",
       "    <tr>\n",
       "      <th>2</th>\n",
       "      <td>Tr-3</td>\n",
       "      <td>5/7/2015</td>\n",
       "      <td>Bank account or service</td>\n",
       "      <td>Using a debit or ATM card</td>\n",
       "      <td>NaN</td>\n",
       "      <td>5/7/2015</td>\n",
       "      <td>Closed with explanation</td>\n",
       "      <td>No</td>\n",
       "      <td>El XXXX / XXXX / 15, estaba preparando el vuel...</td>\n",
       "      <td>train</td>\n",
       "    </tr>\n",
       "    <tr>\n",
       "      <th>3</th>\n",
       "      <td>Tr-4</td>\n",
       "      <td>11/12/2016</td>\n",
       "      <td>Debt collection</td>\n",
       "      <td>Cont'd attempts collect debt not owed</td>\n",
       "      <td>Company believes it acted appropriately as aut...</td>\n",
       "      <td>11/12/2016</td>\n",
       "      <td>Closed with explanation</td>\n",
       "      <td>No</td>\n",
       "      <td>The loan was paid in XXXX XXXX. In XXXX, 4 yea...</td>\n",
       "      <td>train</td>\n",
       "    </tr>\n",
       "    <tr>\n",
       "      <th>4</th>\n",
       "      <td>Tr-5</td>\n",
       "      <td>9/29/2016</td>\n",
       "      <td>Credit card</td>\n",
       "      <td>Payoff process</td>\n",
       "      <td>Company has responded to the consumer and the ...</td>\n",
       "      <td>9/29/2016</td>\n",
       "      <td>Closed with explanation</td>\n",
       "      <td>No</td>\n",
       "      <td>J'ai obtenu un compte de crédit de soins pour ...</td>\n",
       "      <td>train</td>\n",
       "    </tr>\n",
       "  </tbody>\n",
       "</table>\n",
       "</div>"
      ],
      "text/plain": [
       "  Complaint-ID Date-received         Transaction-Type  \\\n",
       "0         Tr-1    11/11/2015                 Mortgage   \n",
       "1         Tr-2      7/7/2015         Credit reporting   \n",
       "2         Tr-3      5/7/2015  Bank account or service   \n",
       "3         Tr-4    11/12/2016          Debt collection   \n",
       "4         Tr-5     9/29/2016              Credit card   \n",
       "\n",
       "                           Complaint-reason  \\\n",
       "0  Loan servicing, payments, escrow account   \n",
       "1    Incorrect information on credit report   \n",
       "2                 Using a debit or ATM card   \n",
       "3     Cont'd attempts collect debt not owed   \n",
       "4                            Payoff process   \n",
       "\n",
       "                                    Company-response Date-sent-to-company  \\\n",
       "0                                                NaN           11/11/2015   \n",
       "1   Company chooses not to provide a public response             7/7/2015   \n",
       "2                                                NaN             5/7/2015   \n",
       "3  Company believes it acted appropriately as aut...           11/12/2016   \n",
       "4  Company has responded to the consumer and the ...            9/29/2016   \n",
       "\n",
       "                  Complaint-Status Consumer-disputes  \\\n",
       "0          Closed with explanation               Yes   \n",
       "1  Closed with non-monetary relief                No   \n",
       "2          Closed with explanation                No   \n",
       "3          Closed with explanation                No   \n",
       "4          Closed with explanation                No   \n",
       "\n",
       "                          Consumer-complaint-summary    tag  \n",
       "0  Seterus, Inc a déposé un faux rapport auprès d...  train  \n",
       "1  XX / XX / XXXX La requête en faillite n ° XXXX...  train  \n",
       "2  El XXXX / XXXX / 15, estaba preparando el vuel...  train  \n",
       "3  The loan was paid in XXXX XXXX. In XXXX, 4 yea...  train  \n",
       "4  J'ai obtenu un compte de crédit de soins pour ...  train  "
      ]
     },
     "execution_count": 31,
     "metadata": {},
     "output_type": "execute_result"
    }
   ],
   "source": [
    "df = pd.concat([df_train],axis= 0)\n",
    "print df.shape\n",
    "df.head()"
   ]
  },
  {
   "cell_type": "code",
   "execution_count": 32,
   "metadata": {},
   "outputs": [
    {
     "data": {
      "text/plain": [
       "Debt collection                                                                 10422\n",
       "Mortgage                                                                         7950\n",
       "Credit reporting                                                                 6706\n",
       "Credit card                                                                      4119\n",
       "Bank account or service                                                          3264\n",
       "Credit reporting, credit repair services, or other personal consumer reports     3169\n",
       "Student loan                                                                     2874\n",
       "Consumer Loan                                                                    2033\n",
       "Credit card or prepaid card                                                       719\n",
       "Checking or savings account                                                       496\n",
       "Payday loan                                                                       363\n",
       "Money transfers                                                                   332\n",
       "Prepaid card                                                                      308\n",
       "Vehicle loan or lease                                                             155\n",
       "Money transfer, virtual currency, or money service                                147\n",
       "Payday loan, title loan, or personal loan                                         145\n",
       "Other financial service                                                            60\n",
       "Virtual currency                                                                    4\n",
       "Name: Transaction-Type, dtype: int64"
      ]
     },
     "execution_count": 32,
     "metadata": {},
     "output_type": "execute_result"
    }
   ],
   "source": [
    "(df['Transaction-Type'].value_counts())"
   ]
  },
  {
   "cell_type": "code",
   "execution_count": 33,
   "metadata": {},
   "outputs": [
    {
     "data": {
      "text/plain": [
       "18"
      ]
     },
     "execution_count": 33,
     "metadata": {},
     "output_type": "execute_result"
    }
   ],
   "source": [
    "tran_type = {'Debt collection' : 'c' ,\n",
    "             'Credit reporting':'c' ,\n",
    "             'Credit card':'c',\n",
    "             'Credit reporting, credit repair services, or other personal consumer reports':'c',\n",
    "             'Credit card or prepaid card':'c',\\\n",
    "             'Prepaid card':'c',\n",
    "             'Mortgage':'l',\n",
    "             'Student loan':'l',\n",
    "             'Consumer Loan':'l',\n",
    "             'Payday loan':'l',\n",
    "             'Vehicle loan or lease':'l',\\\n",
    "             'Payday loan, title loan, or personal loan':'l',\\\n",
    "             'Virtual currency':'c',\\\n",
    "             'Money transfer, virtual currency, or money service':'c',\\\n",
    "             'Money transfers':'c',\\\n",
    "             'Bank account or service':'b',\\\n",
    "             'Checking or savings account':'b',\n",
    "             'Other financial service':'o'\n",
    "    }\n",
    "len(tran_type)"
   ]
  },
  {
   "cell_type": "code",
   "execution_count": 34,
   "metadata": {},
   "outputs": [],
   "source": [
    "replace = []\n",
    "for t in df['Transaction-Type']:\n",
    "    replace.append(tran_type[t])"
   ]
  },
  {
   "cell_type": "code",
   "execution_count": 35,
   "metadata": {},
   "outputs": [],
   "source": [
    "df['Transaction-Type'] = replace"
   ]
  },
  {
   "cell_type": "code",
   "execution_count": 36,
   "metadata": {},
   "outputs": [
    {
     "data": {
      "text/plain": [
       "c    25926\n",
       "l    13520\n",
       "b     3760\n",
       "o       60\n",
       "Name: Transaction-Type, dtype: int64"
      ]
     },
     "execution_count": 36,
     "metadata": {},
     "output_type": "execute_result"
    }
   ],
   "source": [
    "df['Transaction-Type'].value_counts()"
   ]
  },
  {
   "cell_type": "code",
   "execution_count": null,
   "metadata": {},
   "outputs": [],
   "source": [
    "from datetime import datetime\n",
    "def convert_in_date(s):\n",
    "    datetime_object = datetime.strptime(s,'%m/%d/%Y')\n",
    "    return datetime_object"
   ]
  },
  {
   "cell_type": "code",
   "execution_count": null,
   "metadata": {},
   "outputs": [],
   "source": [
    "df['Date-received'] = df['Date-received'].apply(convert_in_date)"
   ]
  },
  {
   "cell_type": "code",
   "execution_count": null,
   "metadata": {},
   "outputs": [],
   "source": [
    "df['Date-sent-to-company'] = df['Date-sent-to-company'].apply(convert_in_date)"
   ]
  },
  {
   "cell_type": "code",
   "execution_count": null,
   "metadata": {},
   "outputs": [],
   "source": [
    "date_equal = df.loc[df['Date-sent-to-company'] == df['Date-received']]"
   ]
  },
  {
   "cell_type": "code",
   "execution_count": null,
   "metadata": {},
   "outputs": [],
   "source": [
    "# date_equal[['Date-received','Date-sent-to-company','Complaint-Status','Consumer-disputes','Transaction-Type']]"
   ]
  },
  {
   "cell_type": "code",
   "execution_count": null,
   "metadata": {},
   "outputs": [],
   "source": [
    "df['Transaction-Type'] = df['Transaction-Type'].map(lambda x : x.lower().replace(' ','_'))"
   ]
  },
  {
   "cell_type": "code",
   "execution_count": null,
   "metadata": {},
   "outputs": [],
   "source": [
    "df['Complaint-reason'] = df['Complaint-reason'].apply(preprocess_data)"
   ]
  },
  {
   "cell_type": "code",
   "execution_count": null,
   "metadata": {},
   "outputs": [],
   "source": [
    "text = list(df['Complaint-reason'])\n",
    "vectorizer = TfidfVectorizer(min_df=1)\n",
    "# tokenize and build vocab\n",
    "vectorizer.fit(text)"
   ]
  },
  {
   "cell_type": "code",
   "execution_count": null,
   "metadata": {},
   "outputs": [],
   "source": [
    "# encode document\n",
    "vector = vectorizer.transform(text)\n",
    "# summarize encoded vector\n",
    "print(vector.shape)"
   ]
  },
  {
   "cell_type": "code",
   "execution_count": null,
   "metadata": {},
   "outputs": [],
   "source": [
    "# import time\n",
    "\n",
    "# from sklearn.manifold import TSNE\n",
    "\n",
    "# n_sne = 7000\n",
    "# time_start = time.time()\n",
    "# tsne = TSNE(n_components=2, verbose=1, perplexity=40, n_iter=300)\n",
    "# tsne_results = tsne.fit_transform(vector.toarray())\n"
   ]
  },
  {
   "cell_type": "code",
   "execution_count": 37,
   "metadata": {},
   "outputs": [],
   "source": [
    "vec_df = pd.DataFrame()"
   ]
  },
  {
   "cell_type": "code",
   "execution_count": 38,
   "metadata": {},
   "outputs": [
    {
     "name": "stdout",
     "output_type": "stream",
     "text": [
      "(0, 0)\n"
     ]
    },
    {
     "data": {
      "text/html": [
       "<div>\n",
       "<style scoped>\n",
       "    .dataframe tbody tr th:only-of-type {\n",
       "        vertical-align: middle;\n",
       "    }\n",
       "\n",
       "    .dataframe tbody tr th {\n",
       "        vertical-align: top;\n",
       "    }\n",
       "\n",
       "    .dataframe thead th {\n",
       "        text-align: right;\n",
       "    }\n",
       "</style>\n",
       "<table border=\"1\" class=\"dataframe\">\n",
       "  <thead>\n",
       "    <tr style=\"text-align: right;\">\n",
       "      <th></th>\n",
       "    </tr>\n",
       "  </thead>\n",
       "  <tbody>\n",
       "  </tbody>\n",
       "</table>\n",
       "</div>"
      ],
      "text/plain": [
       "Empty DataFrame\n",
       "Columns: []\n",
       "Index: []"
      ]
     },
     "execution_count": 38,
     "metadata": {},
     "output_type": "execute_result"
    }
   ],
   "source": [
    "print vec_df.shape\n",
    "vec_df.head()"
   ]
  },
  {
   "cell_type": "code",
   "execution_count": 39,
   "metadata": {},
   "outputs": [],
   "source": [
    "vec_df['tag'] = list(df['tag'])\n",
    "vec_df['Complaint-Status'] = list(df['Complaint-Status'])\n",
    "vec_df['Transaction-Type'] = list(df['Transaction-Type'])\n",
    "vec_df['Complaint-ID'] = list(df['Complaint-ID'])\n",
    "#vec_df['cd'] = list(df['Consumer-disputes'])"
   ]
  },
  {
   "cell_type": "code",
   "execution_count": 40,
   "metadata": {},
   "outputs": [
    {
     "data": {
      "text/plain": [
       "(43266, 4)"
      ]
     },
     "execution_count": 40,
     "metadata": {},
     "output_type": "execute_result"
    }
   ],
   "source": [
    "vec_df.shape"
   ]
  },
  {
   "cell_type": "code",
   "execution_count": 41,
   "metadata": {},
   "outputs": [],
   "source": [
    "complete_df_one_hot = pd.get_dummies(data=vec_df, columns=['Transaction-Type'])\n",
    "#complete_df_one_hot = vec_df"
   ]
  },
  {
   "cell_type": "code",
   "execution_count": 42,
   "metadata": {},
   "outputs": [],
   "source": [
    "train_data = complete_df_one_hot.loc[complete_df_one_hot['tag']== 'train']\n",
    "train_data.drop(['tag'],inplace=True,axis=1)\n",
    "test_data = complete_df_one_hot.loc[complete_df_one_hot['tag']== 'test']\n",
    "test_data.drop(['tag'],inplace=True,axis =1)\n"
   ]
  },
  {
   "cell_type": "code",
   "execution_count": 43,
   "metadata": {},
   "outputs": [
    {
     "data": {
      "text/plain": [
       "(43266, 6)"
      ]
     },
     "execution_count": 43,
     "metadata": {},
     "output_type": "execute_result"
    }
   ],
   "source": [
    "train_data.shape"
   ]
  },
  {
   "cell_type": "code",
   "execution_count": 44,
   "metadata": {},
   "outputs": [
    {
     "data": {
      "text/html": [
       "<div>\n",
       "<style scoped>\n",
       "    .dataframe tbody tr th:only-of-type {\n",
       "        vertical-align: middle;\n",
       "    }\n",
       "\n",
       "    .dataframe tbody tr th {\n",
       "        vertical-align: top;\n",
       "    }\n",
       "\n",
       "    .dataframe thead th {\n",
       "        text-align: right;\n",
       "    }\n",
       "</style>\n",
       "<table border=\"1\" class=\"dataframe\">\n",
       "  <thead>\n",
       "    <tr style=\"text-align: right;\">\n",
       "      <th></th>\n",
       "      <th>Complaint-Status</th>\n",
       "      <th>Complaint-ID</th>\n",
       "      <th>Transaction-Type_b</th>\n",
       "      <th>Transaction-Type_c</th>\n",
       "      <th>Transaction-Type_l</th>\n",
       "      <th>Transaction-Type_o</th>\n",
       "    </tr>\n",
       "  </thead>\n",
       "  <tbody>\n",
       "    <tr>\n",
       "      <th>0</th>\n",
       "      <td>Closed with explanation</td>\n",
       "      <td>Tr-1</td>\n",
       "      <td>0</td>\n",
       "      <td>0</td>\n",
       "      <td>1</td>\n",
       "      <td>0</td>\n",
       "    </tr>\n",
       "    <tr>\n",
       "      <th>1</th>\n",
       "      <td>Closed with non-monetary relief</td>\n",
       "      <td>Tr-2</td>\n",
       "      <td>0</td>\n",
       "      <td>1</td>\n",
       "      <td>0</td>\n",
       "      <td>0</td>\n",
       "    </tr>\n",
       "    <tr>\n",
       "      <th>2</th>\n",
       "      <td>Closed with explanation</td>\n",
       "      <td>Tr-3</td>\n",
       "      <td>1</td>\n",
       "      <td>0</td>\n",
       "      <td>0</td>\n",
       "      <td>0</td>\n",
       "    </tr>\n",
       "    <tr>\n",
       "      <th>3</th>\n",
       "      <td>Closed with explanation</td>\n",
       "      <td>Tr-4</td>\n",
       "      <td>0</td>\n",
       "      <td>1</td>\n",
       "      <td>0</td>\n",
       "      <td>0</td>\n",
       "    </tr>\n",
       "    <tr>\n",
       "      <th>4</th>\n",
       "      <td>Closed with explanation</td>\n",
       "      <td>Tr-5</td>\n",
       "      <td>0</td>\n",
       "      <td>1</td>\n",
       "      <td>0</td>\n",
       "      <td>0</td>\n",
       "    </tr>\n",
       "  </tbody>\n",
       "</table>\n",
       "</div>"
      ],
      "text/plain": [
       "                  Complaint-Status Complaint-ID  Transaction-Type_b  \\\n",
       "0          Closed with explanation         Tr-1                   0   \n",
       "1  Closed with non-monetary relief         Tr-2                   0   \n",
       "2          Closed with explanation         Tr-3                   1   \n",
       "3          Closed with explanation         Tr-4                   0   \n",
       "4          Closed with explanation         Tr-5                   0   \n",
       "\n",
       "   Transaction-Type_c  Transaction-Type_l  Transaction-Type_o  \n",
       "0                   0                   1                   0  \n",
       "1                   1                   0                   0  \n",
       "2                   0                   0                   0  \n",
       "3                   1                   0                   0  \n",
       "4                   1                   0                   0  "
      ]
     },
     "execution_count": 44,
     "metadata": {},
     "output_type": "execute_result"
    }
   ],
   "source": [
    "train_data.head()"
   ]
  },
  {
   "cell_type": "code",
   "execution_count": 45,
   "metadata": {},
   "outputs": [],
   "source": [
    "y_train = (train_data['Complaint-Status'])\n",
    "x_train = train_data.drop(['Complaint-Status','Complaint-ID'],axis =1)"
   ]
  },
  {
   "cell_type": "code",
   "execution_count": 46,
   "metadata": {},
   "outputs": [
    {
     "name": "stdout",
     "output_type": "stream",
     "text": [
      "(43266, 4)\n"
     ]
    },
    {
     "data": {
      "text/html": [
       "<div>\n",
       "<style scoped>\n",
       "    .dataframe tbody tr th:only-of-type {\n",
       "        vertical-align: middle;\n",
       "    }\n",
       "\n",
       "    .dataframe tbody tr th {\n",
       "        vertical-align: top;\n",
       "    }\n",
       "\n",
       "    .dataframe thead th {\n",
       "        text-align: right;\n",
       "    }\n",
       "</style>\n",
       "<table border=\"1\" class=\"dataframe\">\n",
       "  <thead>\n",
       "    <tr style=\"text-align: right;\">\n",
       "      <th></th>\n",
       "      <th>Transaction-Type_b</th>\n",
       "      <th>Transaction-Type_c</th>\n",
       "      <th>Transaction-Type_l</th>\n",
       "      <th>Transaction-Type_o</th>\n",
       "    </tr>\n",
       "  </thead>\n",
       "  <tbody>\n",
       "    <tr>\n",
       "      <th>0</th>\n",
       "      <td>0</td>\n",
       "      <td>0</td>\n",
       "      <td>1</td>\n",
       "      <td>0</td>\n",
       "    </tr>\n",
       "    <tr>\n",
       "      <th>1</th>\n",
       "      <td>0</td>\n",
       "      <td>1</td>\n",
       "      <td>0</td>\n",
       "      <td>0</td>\n",
       "    </tr>\n",
       "    <tr>\n",
       "      <th>2</th>\n",
       "      <td>1</td>\n",
       "      <td>0</td>\n",
       "      <td>0</td>\n",
       "      <td>0</td>\n",
       "    </tr>\n",
       "    <tr>\n",
       "      <th>3</th>\n",
       "      <td>0</td>\n",
       "      <td>1</td>\n",
       "      <td>0</td>\n",
       "      <td>0</td>\n",
       "    </tr>\n",
       "    <tr>\n",
       "      <th>4</th>\n",
       "      <td>0</td>\n",
       "      <td>1</td>\n",
       "      <td>0</td>\n",
       "      <td>0</td>\n",
       "    </tr>\n",
       "  </tbody>\n",
       "</table>\n",
       "</div>"
      ],
      "text/plain": [
       "   Transaction-Type_b  Transaction-Type_c  Transaction-Type_l  \\\n",
       "0                   0                   0                   1   \n",
       "1                   0                   1                   0   \n",
       "2                   1                   0                   0   \n",
       "3                   0                   1                   0   \n",
       "4                   0                   1                   0   \n",
       "\n",
       "   Transaction-Type_o  \n",
       "0                   0  \n",
       "1                   0  \n",
       "2                   0  \n",
       "3                   0  \n",
       "4                   0  "
      ]
     },
     "execution_count": 46,
     "metadata": {},
     "output_type": "execute_result"
    }
   ],
   "source": [
    "# pd.concat([x_train,feature_tt])\n",
    "print x_train.shape\n",
    "x_train.head()"
   ]
  },
  {
   "cell_type": "code",
   "execution_count": 47,
   "metadata": {},
   "outputs": [
    {
     "name": "stdout",
     "output_type": "stream",
     "text": [
      "(43266,)\n",
      "(43266, 5)\n"
     ]
    }
   ],
   "source": [
    "print y_train.shape\n",
    "y_train_one_hot = pd.get_dummies(y_train,prefix=['Complaint-Status'])\n",
    "print y_train_one_hot.shape"
   ]
  },
  {
   "cell_type": "code",
   "execution_count": 48,
   "metadata": {},
   "outputs": [
    {
     "name": "stdout",
     "output_type": "stream",
     "text": [
      "(43266, 4)\n",
      "(43266,)\n"
     ]
    }
   ],
   "source": [
    "print x_train.shape\n",
    "print y_train.shape"
   ]
  },
  {
   "cell_type": "code",
   "execution_count": 58,
   "metadata": {},
   "outputs": [],
   "source": [
    "from imblearn.over_sampling import SMOTE\n",
    "sm = SMOTE(random_state=2)\n",
    "X_train_res, y_train_res = (x_train, y_train.ravel())\n"
   ]
  },
  {
   "cell_type": "code",
   "execution_count": 59,
   "metadata": {},
   "outputs": [
    {
     "name": "stdout",
     "output_type": "stream",
     "text": [
      "(43266, 4)\n",
      "(43266,)\n"
     ]
    }
   ],
   "source": [
    "print X_train_res.shape\n",
    "print y_train_res.shape"
   ]
  },
  {
   "cell_type": "code",
   "execution_count": 60,
   "metadata": {},
   "outputs": [
    {
     "name": "stdout",
     "output_type": "stream",
     "text": [
      "[t-SNE] Computing 121 nearest neighbors...\n",
      "[t-SNE] Indexed 43266 samples in 1.150s...\n",
      "[t-SNE] Computed neighbors for 43266 samples in 8.219s...\n",
      "[t-SNE] Computed conditional probabilities for sample 1000 / 43266\n",
      "[t-SNE] Computed conditional probabilities for sample 2000 / 43266\n",
      "[t-SNE] Computed conditional probabilities for sample 3000 / 43266\n",
      "[t-SNE] Computed conditional probabilities for sample 4000 / 43266\n",
      "[t-SNE] Computed conditional probabilities for sample 5000 / 43266\n",
      "[t-SNE] Computed conditional probabilities for sample 6000 / 43266\n",
      "[t-SNE] Computed conditional probabilities for sample 7000 / 43266\n",
      "[t-SNE] Computed conditional probabilities for sample 8000 / 43266\n",
      "[t-SNE] Computed conditional probabilities for sample 9000 / 43266\n",
      "[t-SNE] Computed conditional probabilities for sample 10000 / 43266\n",
      "[t-SNE] Computed conditional probabilities for sample 11000 / 43266\n",
      "[t-SNE] Computed conditional probabilities for sample 12000 / 43266\n",
      "[t-SNE] Computed conditional probabilities for sample 13000 / 43266\n",
      "[t-SNE] Computed conditional probabilities for sample 14000 / 43266\n",
      "[t-SNE] Computed conditional probabilities for sample 15000 / 43266\n",
      "[t-SNE] Computed conditional probabilities for sample 16000 / 43266\n",
      "[t-SNE] Computed conditional probabilities for sample 17000 / 43266\n",
      "[t-SNE] Computed conditional probabilities for sample 18000 / 43266\n",
      "[t-SNE] Computed conditional probabilities for sample 19000 / 43266\n",
      "[t-SNE] Computed conditional probabilities for sample 20000 / 43266\n",
      "[t-SNE] Computed conditional probabilities for sample 21000 / 43266\n",
      "[t-SNE] Computed conditional probabilities for sample 22000 / 43266\n",
      "[t-SNE] Computed conditional probabilities for sample 23000 / 43266\n",
      "[t-SNE] Computed conditional probabilities for sample 24000 / 43266\n",
      "[t-SNE] Computed conditional probabilities for sample 25000 / 43266\n",
      "[t-SNE] Computed conditional probabilities for sample 26000 / 43266\n",
      "[t-SNE] Computed conditional probabilities for sample 27000 / 43266\n",
      "[t-SNE] Computed conditional probabilities for sample 28000 / 43266\n",
      "[t-SNE] Computed conditional probabilities for sample 29000 / 43266\n",
      "[t-SNE] Computed conditional probabilities for sample 30000 / 43266\n",
      "[t-SNE] Computed conditional probabilities for sample 31000 / 43266\n",
      "[t-SNE] Computed conditional probabilities for sample 32000 / 43266\n",
      "[t-SNE] Computed conditional probabilities for sample 33000 / 43266\n",
      "[t-SNE] Computed conditional probabilities for sample 34000 / 43266\n",
      "[t-SNE] Computed conditional probabilities for sample 35000 / 43266\n",
      "[t-SNE] Computed conditional probabilities for sample 36000 / 43266\n",
      "[t-SNE] Computed conditional probabilities for sample 37000 / 43266\n",
      "[t-SNE] Computed conditional probabilities for sample 38000 / 43266\n",
      "[t-SNE] Computed conditional probabilities for sample 39000 / 43266\n",
      "[t-SNE] Computed conditional probabilities for sample 40000 / 43266\n",
      "[t-SNE] Computed conditional probabilities for sample 41000 / 43266\n",
      "[t-SNE] Computed conditional probabilities for sample 42000 / 43266\n",
      "[t-SNE] Computed conditional probabilities for sample 43000 / 43266\n",
      "[t-SNE] Computed conditional probabilities for sample 43266 / 43266\n",
      "[t-SNE] Mean sigma: 0.000000\n",
      "[t-SNE] KL divergence after 250 iterations with early exaggeration: 150.891647\n",
      "[t-SNE] KL divergence after 300 iterations: 10.020272\n"
     ]
    }
   ],
   "source": [
    "import time\n",
    "\n",
    "from sklearn.manifold import TSNE\n",
    "\n",
    "n_sne = 7000\n",
    "time_start = time.time()\n",
    "tsne = TSNE(n_components=3, verbose=1, perplexity=40, n_iter=300)\n",
    "tsne_results = tsne.fit_transform(X_train_res)\n"
   ]
  },
  {
   "cell_type": "code",
   "execution_count": 56,
   "metadata": {},
   "outputs": [],
   "source": [
    "from sklearn.model_selection import train_test_split\n",
    "from sklearn.naive_bayes import MultinomialNB\n",
    "\n",
    "X_train, X_test, y_train_internal, y_test_internal = train_test_split(X_train_res,y_train_res ,random_state = 0)\n"
   ]
  },
  {
   "cell_type": "code",
   "execution_count": 57,
   "metadata": {},
   "outputs": [
    {
     "data": {
      "text/plain": [
       "0.20932327718959093"
      ]
     },
     "execution_count": 57,
     "metadata": {},
     "output_type": "execute_result"
    }
   ],
   "source": [
    "gb = MultinomialNB().fit(X_train, y_train_internal)\n",
    "pred_internal = gb.predict(X_test)\n",
    "import sklearn\n",
    "sklearn.metrics.f1_score(y_test_internal, pred_internal,average='weighted')"
   ]
  },
  {
   "cell_type": "code",
   "execution_count": null,
   "metadata": {},
   "outputs": [],
   "source": [
    "# Import the model we are using\n",
    "from sklearn.ensemble import RandomForestClassifier\n",
    "\n",
    "# Instantiate model with 1000 decision trees\n",
    "rf = RandomForestClassifier(n_estimators = 500, random_state = 42)\n",
    "\n",
    "# Train the model on training data\n",
    "rm = rf.fit(X_train, y_train_internal)\n",
    "pred_internal = rm.predict(X_test)\n",
    "\n"
   ]
  },
  {
   "cell_type": "code",
   "execution_count": null,
   "metadata": {},
   "outputs": [],
   "source": [
    "import sklearn\n",
    "sklearn.metrics.f1_score(y_test_internal, pred_internal,average='weighted')"
   ]
  },
  {
   "cell_type": "code",
   "execution_count": null,
   "metadata": {},
   "outputs": [],
   "source": [
    "from sklearn.svm import SVC\n",
    "sv = SVC(C=1.0, kernel='linear', degree=3, gamma='auto')\n",
    "sv.fit(X_train, y_train_internal)\n",
    "pred_internal = sv.predict(X_test)"
   ]
  },
  {
   "cell_type": "code",
   "execution_count": null,
   "metadata": {},
   "outputs": [],
   "source": [
    "import sklearn\n",
    "sklearn.metrics.f1_score(y_test_internal, pred_internal,average='weighted')"
   ]
  },
  {
   "cell_type": "code",
   "execution_count": null,
   "metadata": {},
   "outputs": [],
   "source": [
    "from tpot import TPOTClassifier\n",
    "tpot = TPOTClassifier(generations = 8, population_size = 50, verbosity=2,scoring= 'f1_weighted')\n",
    "tpot.fit(X_train, y_train_internal)"
   ]
  },
  {
   "cell_type": "code",
   "execution_count": null,
   "metadata": {},
   "outputs": [],
   "source": []
  }
 ],
 "metadata": {
  "kernelspec": {
   "display_name": "Python 2",
   "language": "python",
   "name": "python2"
  },
  "language_info": {
   "codemirror_mode": {
    "name": "ipython",
    "version": 2
   },
   "file_extension": ".py",
   "mimetype": "text/x-python",
   "name": "python",
   "nbconvert_exporter": "python",
   "pygments_lexer": "ipython2",
   "version": "2.7.15"
  }
 },
 "nbformat": 4,
 "nbformat_minor": 2
}
