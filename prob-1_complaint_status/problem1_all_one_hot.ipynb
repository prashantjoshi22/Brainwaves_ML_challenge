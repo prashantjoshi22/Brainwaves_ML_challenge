{
 "cells": [
  {
   "cell_type": "code",
   "execution_count": 1,
   "metadata": {},
   "outputs": [],
   "source": [
    "import pandas as pd\n",
    "import pandas as pd\n",
    "import re\n",
    "import string\n",
    "from sklearn.feature_extraction.text import TfidfVectorizer\n",
    "from sklearn.cluster import KMeans\n",
    "from nltk.corpus import stopwords\n",
    "from string import digits\n",
    "import numpy as np"
   ]
  },
  {
   "cell_type": "code",
   "execution_count": 2,
   "metadata": {},
   "outputs": [],
   "source": [
    "import nltk\n",
    "from nltk.stem.porter import PorterStemmer\n",
    "porter_stemmer = PorterStemmer()\n",
    "from nltk.stem import WordNetLemmatizer\n",
    "lemmatizer = WordNetLemmatizer()"
   ]
  },
  {
   "cell_type": "code",
   "execution_count": 3,
   "metadata": {},
   "outputs": [],
   "source": [
    "def preprocess_data(s):\n",
    "    s = s.lower()\n",
    "    data = re.sub(r'[^\\x00-\\x7F]+', ' ', s)\n",
    "    final_str = data.translate(None, string.punctuation)\n",
    "    filter_str = final_str.translate(None, digits)\n",
    "    nltk_tokens = nltk.word_tokenize(filter_str)\n",
    "    #Next find the roots of the word\n",
    "    str_= ''\n",
    "    for w in nltk_tokens:\n",
    "\n",
    "        if w not in stopwords.words('english'):\n",
    "            str_ += ' '  + (lemmatizer.lemmatize(w))\n",
    "    \n",
    "    return str_.strip()"
   ]
  },
  {
   "cell_type": "code",
   "execution_count": 4,
   "metadata": {},
   "outputs": [
    {
     "name": "stdout",
     "output_type": "stream",
     "text": [
      "(43266, 10)\n"
     ]
    }
   ],
   "source": [
    "df_train = pd.read_csv('/home/prashant/Downloads/c3cc8568-0-dataset/train.csv')\n",
    "df_train['tag'] = 'train'\n",
    "print df_train.shape"
   ]
  },
  {
   "cell_type": "code",
   "execution_count": null,
   "metadata": {},
   "outputs": [],
   "source": [
    "df_test = pd.read_csv('/home/prashant/Downloads/c3cc8568-0-dataset/test.csv') \n",
    "df_test['tag'] = 'test'\n",
    "print df_test.shape"
   ]
  },
  {
   "cell_type": "code",
   "execution_count": null,
   "metadata": {},
   "outputs": [],
   "source": [
    "df = pd.concat([df_train , df_test],axis= 0)\n",
    "print df.shape\n",
    "df.head()"
   ]
  },
  {
   "cell_type": "code",
   "execution_count": null,
   "metadata": {},
   "outputs": [],
   "source": [
    "#df_train.isnull().sum()\n",
    "df['Complaint-reason'] = df['Complaint-reason'].apply(preprocess_data)"
   ]
  },
  {
   "cell_type": "code",
   "execution_count": null,
   "metadata": {},
   "outputs": [],
   "source": [
    "cr = dict(df['Complaint-reason'].value_counts())\n",
    "l = []\n",
    "for r in cr:\n",
    "    if cr[r] < 300:\n",
    "        l.append(r)\n",
    "len(l)"
   ]
  },
  {
   "cell_type": "code",
   "execution_count": null,
   "metadata": {},
   "outputs": [],
   "source": [
    "df = df[['Complaint-ID','tag','Complaint-Status','Transaction-Type','Consumer-disputes']]"
   ]
  },
  {
   "cell_type": "code",
   "execution_count": null,
   "metadata": {},
   "outputs": [],
   "source": [
    "df.head()"
   ]
  },
  {
   "cell_type": "code",
   "execution_count": null,
   "metadata": {},
   "outputs": [],
   "source": [
    "tran_type = {'Debt collection' : 'd' ,\n",
    "             'Credit reporting':'c' ,\n",
    "             'Credit card':'c',\n",
    "             'Credit reporting, credit repair services, or other personal consumer reports':'c',\n",
    "             'Credit card or prepaid card':'c',\\\n",
    "             'Prepaid card':'c',\n",
    "             'Mortgage':'l',\n",
    "             'Student loan':'l',\n",
    "             'Consumer Loan':'l',\n",
    "             'Payday loan':'l',\n",
    "             'Vehicle loan or lease':'l',\\\n",
    "             'Payday loan, title loan, or personal loan':'l',\\\n",
    "             'Virtual currency':'c',\\\n",
    "             'Money transfer, virtual currency, or money service':'c',\\\n",
    "             'Money transfers':'b',\\\n",
    "             'Bank account or service':'b',\\\n",
    "             'Checking or savings account':'b',\n",
    "             'Other financial service':'b'\n",
    "    }\n",
    "len(tran_type)\n",
    "replace = []\n",
    "for t in df['Transaction-Type']:\n",
    "    replace.append(tran_type[t])\n",
    "    \n",
    "df['Transaction-Type'] = replace"
   ]
  },
  {
   "cell_type": "code",
   "execution_count": null,
   "metadata": {},
   "outputs": [],
   "source": [
    "df.head()"
   ]
  },
  {
   "cell_type": "code",
   "execution_count": null,
   "metadata": {},
   "outputs": [],
   "source": [
    "df_cat = df[['Transaction-Type','Consumer-disputes']]\n",
    "df_one = pd.get_dummies(df_cat)\n"
   ]
  },
  {
   "cell_type": "code",
   "execution_count": null,
   "metadata": {},
   "outputs": [],
   "source": [
    "df_one['Complaint-ID'] = df['Complaint-ID']\n",
    "df_one['tag'] = df['tag']"
   ]
  },
  {
   "cell_type": "code",
   "execution_count": null,
   "metadata": {},
   "outputs": [],
   "source": [
    "df_one['Complaint-Status'] = df['Complaint-Status']\n"
   ]
  },
  {
   "cell_type": "code",
   "execution_count": null,
   "metadata": {},
   "outputs": [],
   "source": [
    "complete_df_one_hot = df_one\n",
    "\n",
    "train_data = complete_df_one_hot.loc[complete_df_one_hot['tag']== 'train']\n",
    "train_data.drop(['tag'],inplace=True,axis=1)\n",
    "test_data = complete_df_one_hot.loc[complete_df_one_hot['tag']== 'test']\n",
    "test_data.drop(['tag'],inplace=True,axis =1)"
   ]
  },
  {
   "cell_type": "code",
   "execution_count": null,
   "metadata": {},
   "outputs": [],
   "source": [
    "y_train = train_data['Complaint-Status']\n",
    "x_train = train_data.drop(['Complaint-Status','Complaint-ID'],axis =1)"
   ]
  },
  {
   "cell_type": "code",
   "execution_count": null,
   "metadata": {},
   "outputs": [],
   "source": []
  },
  {
   "cell_type": "code",
   "execution_count": null,
   "metadata": {},
   "outputs": [],
   "source": [
    "test_data.head()"
   ]
  },
  {
   "cell_type": "code",
   "execution_count": null,
   "metadata": {},
   "outputs": [],
   "source": [
    "#x_train_one_hot = pd.get_dummies(x_train,prefix=['Complaint-reason'])\n"
   ]
  },
  {
   "cell_type": "code",
   "execution_count": null,
   "metadata": {},
   "outputs": [],
   "source": [
    "#y_train_one_hot = pd.get_dummies(y_train,prefix=['Complaint-Status'])"
   ]
  },
  {
   "cell_type": "code",
   "execution_count": null,
   "metadata": {},
   "outputs": [],
   "source": [
    "# print y_train_one_hot.shape\n",
    "# print x_train_one_hot.shape"
   ]
  },
  {
   "cell_type": "code",
   "execution_count": null,
   "metadata": {},
   "outputs": [],
   "source": [
    "from sklearn.model_selection import train_test_split\n",
    "from sklearn.naive_bayes import MultinomialNB,GaussianNB\n",
    "from sklearn.linear_model import LogisticRegression\n",
    "X_train, X_test, y_train_internal, y_test_internal = train_test_split(x_train,y_train ,random_state = 0,)"
   ]
  },
  {
   "cell_type": "code",
   "execution_count": null,
   "metadata": {},
   "outputs": [],
   "source": [
    "nb = MultinomialNB().fit(x_train, y_train)\n",
    "pred_internal = nb.predict(X_test)\n",
    "import sklearn\n",
    "sklearn.metrics.f1_score(pred_internal,y_test_internal,average='weighted')"
   ]
  },
  {
   "cell_type": "code",
   "execution_count": null,
   "metadata": {},
   "outputs": [],
   "source": [
    "from sklearn.ensemble import RandomForestClassifier\n",
    "\n",
    "# Instantiate model with 1000 decision trees\n",
    "rf = RandomForestClassifier(n_estimators = 100, random_state = 42)\n",
    "\n",
    "# Train the model on training data\n",
    "rm = rf.fit(X_train, y_train_internal)\n",
    "pred_internal = rm.predict(X_test)"
   ]
  },
  {
   "cell_type": "code",
   "execution_count": null,
   "metadata": {},
   "outputs": [],
   "source": [
    "import sklearn\n",
    "sklearn.metrics.f1_score(pred_internal,y_test_internal,average='weighted')"
   ]
  },
  {
   "cell_type": "code",
   "execution_count": null,
   "metadata": {},
   "outputs": [],
   "source": [
    "id_ = list(test_data['Complaint-ID'])"
   ]
  },
  {
   "cell_type": "code",
   "execution_count": null,
   "metadata": {},
   "outputs": [],
   "source": [
    "test_data.head()"
   ]
  },
  {
   "cell_type": "code",
   "execution_count": null,
   "metadata": {},
   "outputs": [],
   "source": []
  },
  {
   "cell_type": "code",
   "execution_count": null,
   "metadata": {},
   "outputs": [],
   "source": [
    "print train_data.shape\n",
    "test_data.shape\n",
    "test_data.drop(['Complaint-Status','Complaint-ID'],inplace=True,axis=1)"
   ]
  },
  {
   "cell_type": "code",
   "execution_count": null,
   "metadata": {},
   "outputs": [],
   "source": [
    "test_data.head()\n",
    "y_pred = nb.predict(test_data)"
   ]
  },
  {
   "cell_type": "code",
   "execution_count": null,
   "metadata": {},
   "outputs": [],
   "source": [
    "result = pd.DataFrame(id_,columns=['Complaint-ID'])\n",
    "result['Complaint-Status'] = y_pred"
   ]
  },
  {
   "cell_type": "code",
   "execution_count": null,
   "metadata": {},
   "outputs": [],
   "source": [
    "result.to_csv('/home/prashant/Downloads/c3cc8568-0-dataset/one_hot_ign_3.csv',index=None)"
   ]
  },
  {
   "cell_type": "code",
   "execution_count": null,
   "metadata": {},
   "outputs": [],
   "source": []
  },
  {
   "cell_type": "code",
   "execution_count": null,
   "metadata": {},
   "outputs": [],
   "source": []
  },
  {
   "cell_type": "code",
   "execution_count": null,
   "metadata": {},
   "outputs": [],
   "source": []
  }
 ],
 "metadata": {
  "kernelspec": {
   "display_name": "Python 2",
   "language": "python",
   "name": "python2"
  },
  "language_info": {
   "codemirror_mode": {
    "name": "ipython",
    "version": 2
   },
   "file_extension": ".py",
   "mimetype": "text/x-python",
   "name": "python",
   "nbconvert_exporter": "python",
   "pygments_lexer": "ipython2",
   "version": "2.7.15"
  }
 },
 "nbformat": 4,
 "nbformat_minor": 2
}
